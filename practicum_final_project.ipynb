{
 "cells": [
  {
   "cell_type": "markdown",
   "id": "45d58808",
   "metadata": {},
   "source": [
    "# Introduction\n",
    "\n",
    "In this phase of my final project I will be conducting the data preprocessing, EDA, and A/B testing necessary to solve the task **Assess the performance of the chain's sales outlets**. This notebook will follow the outline described in the Decomposition portion of my final project. \n",
    "\n",
    "# Links\n",
    "\n",
    "**presentation:** https://drive.google.com/file/d/1m8PPZv8FPmfh4ypeJxvI3SU6TU5UbKec/view?usp=sharing\n",
    "\n",
    "**dashboard:** https://public.tableau.com/app/profile/annabelle.petrichor/viz/final_project_dashboard_16789833577320/final_project_dashboard?publish=yes"
   ]
  },
  {
   "cell_type": "markdown",
   "id": "d9a715f3",
   "metadata": {},
   "source": [
    "## Initialization"
   ]
  },
  {
   "cell_type": "code",
   "execution_count": 1,
   "id": "2ccc29be",
   "metadata": {},
   "outputs": [],
   "source": [
    "# importing necessary libraries\n",
    "\n",
    "import pandas as pd\n",
    "import datetime\n",
    "import matplotlib.pyplot as plt\n",
    "import seaborn as sns\n",
    "import math\n",
    "from scipy import stats as st"
   ]
  },
  {
   "cell_type": "code",
   "execution_count": 2,
   "id": "0b7aae25",
   "metadata": {},
   "outputs": [
    {
     "name": "stdout",
     "output_type": "stream",
     "text": [
      "<class 'pandas.core.frame.DataFrame'>\n",
      "RangeIndex: 105335 entries, 0 to 105334\n",
      "Data columns (total 7 columns):\n",
      " #   Column           Non-Null Count   Dtype  \n",
      "---  ------           --------------   -----  \n",
      " 0   purchaseid       105335 non-null  object \n",
      " 1   item_ID          105335 non-null  object \n",
      " 2   Quantity         105335 non-null  int64  \n",
      " 3   purchasedate     105335 non-null  object \n",
      " 4   CustomerID       69125 non-null   float64\n",
      " 5   loyalty_program  105335 non-null  int64  \n",
      " 6   ShopID           105335 non-null  object \n",
      "dtypes: float64(1), int64(2), object(4)\n",
      "memory usage: 5.6+ MB\n"
     ]
    }
   ],
   "source": [
    "# importing the retail dataset with a try/except clause\n",
    "\n",
    "try: \n",
    "    retail_data = pd.read_csv('datasets/retail_dataset_us.csv')\n",
    "                       \n",
    "except:\n",
    "    retail_data = pd.read_csv('/datasets/retail_dataset_us.csv')\n",
    "    \n",
    "retail_data.head()\n",
    "\n",
    "# importing the retail dataset with a try/except clause\n",
    "\n",
    "try: \n",
    "    product_data = pd.read_csv('datasets/product_codes_us.csv', sep = ';')\n",
    "                       \n",
    "except:\n",
    "    product_data = pd.read_csv('/datasets/product_codes_us.csv', sep = ';')\n",
    "    \n",
    "product_data.head()\n",
    "\n",
    "retail_data.info()"
   ]
  },
  {
   "cell_type": "markdown",
   "id": "75144df0",
   "metadata": {},
   "source": [
    "### description of `retail_data`\n",
    "\n",
    "- `purchaseId`\n",
    "- `item_ID`\n",
    "- `purchasedate`\n",
    "- `Quantity` — the number of items in the purchase\n",
    "- `CustomerID`\n",
    "- `ShopID`\n",
    "- `loyalty_program` — whether the customer is a member of the loyalty program\n",
    "\n",
    "product_data.info()\n",
    "\n",
    "### description of `product_data`\n",
    "\n",
    "- `productID`\n",
    "- `price_per_one`"
   ]
  },
  {
   "cell_type": "markdown",
   "id": "ed833610",
   "metadata": {},
   "source": [
    "## Data Preprocessing"
   ]
  },
  {
   "cell_type": "code",
   "execution_count": 3,
   "id": "22c9c924",
   "metadata": {},
   "outputs": [],
   "source": [
    "# fix datatype in `purchasedate`\n",
    "\n",
    "retail_data['purchasedate'] = pd.to_datetime(\n",
    "    retail_data['purchasedate'], format = '%Y-%m-%d %H:%M:%S'\n",
    ")"
   ]
  },
  {
   "cell_type": "code",
   "execution_count": 4,
   "id": "e65b35e5",
   "metadata": {},
   "outputs": [],
   "source": [
    "# converting all column names in to snake_case for easier analysis\n",
    "\n",
    "retail_data = retail_data.rename(\n",
    "    columns={\n",
    "        \"purchaseid\": \"purchase_id\", \n",
    "        \"item_ID\": \"item_id\", \n",
    "        'Quantity':'quantity', \n",
    "        'purchasedate':'purchase_date', \n",
    "        'CustomerID': 'customer_id', \n",
    "        'loyalty_program':'loyalty_program',\n",
    "        'ShopID':'shop_id'\n",
    "    }\n",
    ")\n",
    "\n",
    "product_data = product_data.rename(\n",
    "    columns={\n",
    "        \"productID\": \"product_id\", \n",
    "        \"price_per_one\": \"price_per_one\",\n",
    "    }\n",
    ")"
   ]
  },
  {
   "cell_type": "code",
   "execution_count": 5,
   "id": "4fbaa85a",
   "metadata": {},
   "outputs": [
    {
     "data": {
      "text/plain": [
       "34.37603835382352"
      ]
     },
     "execution_count": 5,
     "metadata": {},
     "output_type": "execute_result"
    }
   ],
   "source": [
    "# examine how many of the NUll values in `customer_id` are in `loyalty_program`\n",
    "\n",
    "retail_data[retail_data['customer_id'].isnull()].groupby(['loyalty_program']).count()\n",
    "\n",
    "# check the total number of of the `customer_id` column that is NULL values\n",
    "\n",
    "len(retail_data[retail_data['customer_id'].isnull()])\n",
    "\n",
    "(\n",
    "    len(retail_data[retail_data['customer_id'].isnull()]) / len(retail_data)\n",
    ") * 100"
   ]
  },
  {
   "cell_type": "markdown",
   "id": "080cf441",
   "metadata": {},
   "source": [
    "#### Null Value Notes\n",
    "\n",
    "Given that all the null values in `customer_id` is the same as the '0s' in `loyalty_program` we can infer that all the customers with no ID numbers are not members of the loyalty program. Thus, I will fill the null values with '0' to make later analysis clear."
   ]
  },
  {
   "cell_type": "code",
   "execution_count": 6,
   "id": "1291c38b",
   "metadata": {},
   "outputs": [
    {
     "name": "stdout",
     "output_type": "stream",
     "text": [
      "<class 'pandas.core.frame.DataFrame'>\n",
      "RangeIndex: 105335 entries, 0 to 105334\n",
      "Data columns (total 7 columns):\n",
      " #   Column           Non-Null Count   Dtype         \n",
      "---  ------           --------------   -----         \n",
      " 0   purchase_id      105335 non-null  object        \n",
      " 1   item_id          105335 non-null  object        \n",
      " 2   quantity         105335 non-null  int64         \n",
      " 3   purchase_date    105335 non-null  datetime64[ns]\n",
      " 4   customer_id      105335 non-null  float64       \n",
      " 5   loyalty_program  105335 non-null  int64         \n",
      " 6   shop_id          105335 non-null  object        \n",
      "dtypes: datetime64[ns](1), float64(1), int64(2), object(3)\n",
      "memory usage: 5.6+ MB\n"
     ]
    }
   ],
   "source": [
    "# filling the Null values in `customer_id` with \"non-member\"\n",
    "\n",
    "retail_data['customer_id'] = retail_data['customer_id'].fillna(0)\n",
    "\n",
    "retail_data['customer_id'].value_counts()\n",
    "\n",
    "retail_data.info()\n",
    "\n",
    "retail_data['customer_id'] = retail_data['customer_id'].astype('int64')"
   ]
  },
  {
   "cell_type": "markdown",
   "id": "e5dc1b6a",
   "metadata": {},
   "source": [
    "## EDA\n",
    "\n",
    "### Starting Hypotheses:\n",
    "\n",
    "1: Shops with higher loyalty program utilizations will have higher sales\n",
    "\n",
    "2: Customers who are part of the loyalty program make more total purchases\n",
    "\n",
    "3: Customers who are part of the loyalty program have larger purchase totals"
   ]
  },
  {
   "cell_type": "code",
   "execution_count": 7,
   "id": "8c480640",
   "metadata": {},
   "outputs": [],
   "source": [
    "# changing `product_id` to `item_id` to merge dfs\n",
    "\n",
    "product_data.columns = ['item_id', 'price_per_one']"
   ]
  },
  {
   "cell_type": "code",
   "execution_count": 8,
   "id": "519add74",
   "metadata": {},
   "outputs": [
    {
     "name": "stdout",
     "output_type": "stream",
     "text": [
      "<class 'pandas.core.frame.DataFrame'>\n",
      "Int64Index: 105335 entries, 0 to 105334\n",
      "Data columns (total 8 columns):\n",
      " #   Column           Non-Null Count   Dtype         \n",
      "---  ------           --------------   -----         \n",
      " 0   purchase_id      105335 non-null  object        \n",
      " 1   item_id          105335 non-null  object        \n",
      " 2   quantity         105335 non-null  int64         \n",
      " 3   purchase_date    105335 non-null  datetime64[ns]\n",
      " 4   customer_id      105335 non-null  int64         \n",
      " 5   loyalty_program  105335 non-null  int64         \n",
      " 6   shop_id          105335 non-null  object        \n",
      " 7   price_per_one    105335 non-null  float64       \n",
      "dtypes: datetime64[ns](1), float64(1), int64(3), object(3)\n",
      "memory usage: 7.2+ MB\n"
     ]
    },
    {
     "data": {
      "text/html": [
       "<div>\n",
       "<style scoped>\n",
       "    .dataframe tbody tr th:only-of-type {\n",
       "        vertical-align: middle;\n",
       "    }\n",
       "\n",
       "    .dataframe tbody tr th {\n",
       "        vertical-align: top;\n",
       "    }\n",
       "\n",
       "    .dataframe thead th {\n",
       "        text-align: right;\n",
       "    }\n",
       "</style>\n",
       "<table border=\"1\" class=\"dataframe\">\n",
       "  <thead>\n",
       "    <tr style=\"text-align: right;\">\n",
       "      <th></th>\n",
       "      <th>purchase_id</th>\n",
       "      <th>item_id</th>\n",
       "      <th>quantity</th>\n",
       "      <th>purchase_date</th>\n",
       "      <th>customer_id</th>\n",
       "      <th>loyalty_program</th>\n",
       "      <th>shop_id</th>\n",
       "      <th>price_per_one</th>\n",
       "    </tr>\n",
       "  </thead>\n",
       "  <tbody>\n",
       "    <tr>\n",
       "      <th>0</th>\n",
       "      <td>538280</td>\n",
       "      <td>21873</td>\n",
       "      <td>11</td>\n",
       "      <td>2016-12-10 12:50:00</td>\n",
       "      <td>18427</td>\n",
       "      <td>0</td>\n",
       "      <td>Shop 3</td>\n",
       "      <td>0.42</td>\n",
       "    </tr>\n",
       "    <tr>\n",
       "      <th>1</th>\n",
       "      <td>541104</td>\n",
       "      <td>21873</td>\n",
       "      <td>0</td>\n",
       "      <td>2017-01-13 14:29:00</td>\n",
       "      <td>0</td>\n",
       "      <td>0</td>\n",
       "      <td>Shop 0</td>\n",
       "      <td>0.42</td>\n",
       "    </tr>\n",
       "    <tr>\n",
       "      <th>2</th>\n",
       "      <td>540418</td>\n",
       "      <td>21873</td>\n",
       "      <td>1</td>\n",
       "      <td>2017-01-07 11:04:00</td>\n",
       "      <td>0</td>\n",
       "      <td>0</td>\n",
       "      <td>Shop 0</td>\n",
       "      <td>0.42</td>\n",
       "    </tr>\n",
       "    <tr>\n",
       "      <th>3</th>\n",
       "      <td>541516</td>\n",
       "      <td>21873</td>\n",
       "      <td>2</td>\n",
       "      <td>2017-01-18 17:34:00</td>\n",
       "      <td>0</td>\n",
       "      <td>0</td>\n",
       "      <td>Shop 0</td>\n",
       "      <td>0.42</td>\n",
       "    </tr>\n",
       "    <tr>\n",
       "      <th>4</th>\n",
       "      <td>541566</td>\n",
       "      <td>21873</td>\n",
       "      <td>35</td>\n",
       "      <td>2017-01-19 11:50:00</td>\n",
       "      <td>23401</td>\n",
       "      <td>1</td>\n",
       "      <td>Shop 22</td>\n",
       "      <td>0.42</td>\n",
       "    </tr>\n",
       "  </tbody>\n",
       "</table>\n",
       "</div>"
      ],
      "text/plain": [
       "  purchase_id item_id  quantity       purchase_date  customer_id  \\\n",
       "0      538280   21873        11 2016-12-10 12:50:00        18427   \n",
       "1      541104   21873         0 2017-01-13 14:29:00            0   \n",
       "2      540418   21873         1 2017-01-07 11:04:00            0   \n",
       "3      541516   21873         2 2017-01-18 17:34:00            0   \n",
       "4      541566   21873        35 2017-01-19 11:50:00        23401   \n",
       "\n",
       "   loyalty_program  shop_id  price_per_one  \n",
       "0                0   Shop 3           0.42  \n",
       "1                0   Shop 0           0.42  \n",
       "2                0   Shop 0           0.42  \n",
       "3                0   Shop 0           0.42  \n",
       "4                1  Shop 22           0.42  "
      ]
     },
     "execution_count": 8,
     "metadata": {},
     "output_type": "execute_result"
    }
   ],
   "source": [
    "# merging dfs on `item_id`\n",
    "\n",
    "retail_merge = pd.merge(retail_data, product_data, on = ['item_id'])\n",
    "\n",
    "retail_merge.info()\n",
    "\n",
    "retail_merge.head()"
   ]
  },
  {
   "cell_type": "code",
   "execution_count": 9,
   "id": "133162a7",
   "metadata": {
    "scrolled": true
   },
   "outputs": [
    {
     "data": {
      "text/plain": [
       "85123A      565\n",
       "22423       499\n",
       "22469       414\n",
       "22720       377\n",
       "85099B      372\n",
       "           ... \n",
       "DCGS0072      1\n",
       "22125         1\n",
       "84977         1\n",
       "84964B        1\n",
       "79320         1\n",
       "Name: item_id, Length: 3159, dtype: int64"
      ]
     },
     "execution_count": 9,
     "metadata": {},
     "output_type": "execute_result"
    }
   ],
   "source": [
    "# creating a `total_price` column\n",
    "\n",
    "retail_merge['total_price'] = retail_merge['quantity'] * retail_merge['price_per_one']\n",
    "\n",
    "retail_merge.head()\n",
    "\n",
    "retail_data['item_id'].value_counts()\n",
    "\n",
    "retail_merge['item_id'].value_counts()"
   ]
  },
  {
   "cell_type": "markdown",
   "id": "b52307f6",
   "metadata": {},
   "source": [
    "### `retail_merge` notes\n",
    "\n",
    "After renaming the `product_id` column to `item_id` in the `product_data` df I merged it with `retail_data` on the `item_id` column. I then ran value_counts() on the `item_id` column for both the original `retail_data` df and the new `retail_merge` df. The value_counts() call showed no change to the `item_id` column after merging, which means I can progress with my analysis. "
   ]
  },
  {
   "cell_type": "code",
   "execution_count": 10,
   "id": "8284c18a",
   "metadata": {},
   "outputs": [
    {
     "data": {
      "text/plain": [
       "Text(0, 0.5, 'Total Sales')"
      ]
     },
     "execution_count": 10,
     "metadata": {},
     "output_type": "execute_result"
    },
    {
     "data": {
      "image/png": "[encoded data removed]",
      "text/plain": [
       "<Figure size 720x504 with 1 Axes>"
      ]
     },
     "metadata": {
      "needs_background": "light"
     },
     "output_type": "display_data"
    }
   ],
   "source": [
    "shop_pivot = retail_merge.pivot_table(\n",
    "    index = 'shop_id',\n",
    "    values = 'total_price',\n",
    "    aggfunc = 'sum'\n",
    ").reset_index().sort_values(by = 'total_price', ascending = False)\n",
    "\n",
    "shop_pivot.head()\n",
    "\n",
    "shop_pivot.plot(kind = 'bar', x = 'shop_id', y = 'total_price', figsize = (10,7))\n",
    "plt.title('Total Sales by Shop')\n",
    "plt.xlabel('Shop ID')\n",
    "plt.ylabel('Total Sales')"
   ]
  },
  {
   "cell_type": "markdown",
   "id": "c87b02b2",
   "metadata": {},
   "source": [
    "### Total Sales by Shop Notes\n",
    "\n",
    "There appears to be an error in the data for Shop 21 where their total sales are recorded as negative. To solve this error I will drop all rows in `total_price` less than -1"
   ]
  },
  {
   "cell_type": "code",
   "execution_count": 11,
   "id": "7f40b62b",
   "metadata": {},
   "outputs": [
    {
     "data": {
      "text/html": [
       "<div>\n",
       "<style scoped>\n",
       "    .dataframe tbody tr th:only-of-type {\n",
       "        vertical-align: middle;\n",
       "    }\n",
       "\n",
       "    .dataframe tbody tr th {\n",
       "        vertical-align: top;\n",
       "    }\n",
       "\n",
       "    .dataframe thead th {\n",
       "        text-align: right;\n",
       "    }\n",
       "</style>\n",
       "<table border=\"1\" class=\"dataframe\">\n",
       "  <thead>\n",
       "    <tr style=\"text-align: right;\">\n",
       "      <th></th>\n",
       "      <th>purchase_id</th>\n",
       "      <th>item_id</th>\n",
       "      <th>quantity</th>\n",
       "      <th>purchase_date</th>\n",
       "      <th>customer_id</th>\n",
       "      <th>loyalty_program</th>\n",
       "      <th>shop_id</th>\n",
       "      <th>price_per_one</th>\n",
       "      <th>total_price</th>\n",
       "    </tr>\n",
       "  </thead>\n",
       "  <tbody>\n",
       "    <tr>\n",
       "      <th>49</th>\n",
       "      <td>C542537</td>\n",
       "      <td>22195</td>\n",
       "      <td>-2</td>\n",
       "      <td>2017-01-28 13:54:00</td>\n",
       "      <td>18180</td>\n",
       "      <td>0</td>\n",
       "      <td>Shop 14</td>\n",
       "      <td>1.65</td>\n",
       "      <td>-3.30</td>\n",
       "    </tr>\n",
       "    <tr>\n",
       "      <th>349</th>\n",
       "      <td>C540250</td>\n",
       "      <td>79321</td>\n",
       "      <td>-2</td>\n",
       "      <td>2017-01-05 16:02:00</td>\n",
       "      <td>23190</td>\n",
       "      <td>1</td>\n",
       "      <td>Shop 7</td>\n",
       "      <td>0.00</td>\n",
       "      <td>-0.00</td>\n",
       "    </tr>\n",
       "    <tr>\n",
       "      <th>446</th>\n",
       "      <td>C540417</td>\n",
       "      <td>79321</td>\n",
       "      <td>-73</td>\n",
       "      <td>2017-01-07 10:56:00</td>\n",
       "      <td>19359</td>\n",
       "      <td>0</td>\n",
       "      <td>Shop 9</td>\n",
       "      <td>0.00</td>\n",
       "      <td>-0.00</td>\n",
       "    </tr>\n",
       "    <tr>\n",
       "      <th>678</th>\n",
       "      <td>C542078</td>\n",
       "      <td>22189</td>\n",
       "      <td>-2</td>\n",
       "      <td>2017-01-25 12:11:00</td>\n",
       "      <td>18533</td>\n",
       "      <td>0</td>\n",
       "      <td>Shop 7</td>\n",
       "      <td>2.31</td>\n",
       "      <td>-4.62</td>\n",
       "    </tr>\n",
       "    <tr>\n",
       "      <th>735</th>\n",
       "      <td>C542792</td>\n",
       "      <td>22891</td>\n",
       "      <td>-2</td>\n",
       "      <td>2017-02-01 10:49:00</td>\n",
       "      <td>20306</td>\n",
       "      <td>0</td>\n",
       "      <td>Shop 14</td>\n",
       "      <td>3.75</td>\n",
       "      <td>-7.50</td>\n",
       "    </tr>\n",
       "  </tbody>\n",
       "</table>\n",
       "</div>"
      ],
      "text/plain": [
       "    purchase_id item_id  quantity       purchase_date  customer_id  \\\n",
       "49      C542537   22195        -2 2017-01-28 13:54:00        18180   \n",
       "349     C540250   79321        -2 2017-01-05 16:02:00        23190   \n",
       "446     C540417   79321       -73 2017-01-07 10:56:00        19359   \n",
       "678     C542078   22189        -2 2017-01-25 12:11:00        18533   \n",
       "735     C542792   22891        -2 2017-02-01 10:49:00        20306   \n",
       "\n",
       "     loyalty_program  shop_id  price_per_one  total_price  \n",
       "49                 0  Shop 14           1.65        -3.30  \n",
       "349                1   Shop 7           0.00        -0.00  \n",
       "446                0   Shop 9           0.00        -0.00  \n",
       "678                0   Shop 7           2.31        -4.62  \n",
       "735                0  Shop 14           3.75        -7.50  "
      ]
     },
     "execution_count": 11,
     "metadata": {},
     "output_type": "execute_result"
    }
   ],
   "source": [
    "# checking `retail_merge` where quantity is less than 0\n",
    "\n",
    "retail_merge[retail_merge['quantity'] < 0].head(5)"
   ]
  },
  {
   "cell_type": "code",
   "execution_count": 12,
   "id": "431429c1",
   "metadata": {},
   "outputs": [
    {
     "data": {
      "text/html": [
       "<div>\n",
       "<style scoped>\n",
       "    .dataframe tbody tr th:only-of-type {\n",
       "        vertical-align: middle;\n",
       "    }\n",
       "\n",
       "    .dataframe tbody tr th {\n",
       "        vertical-align: top;\n",
       "    }\n",
       "\n",
       "    .dataframe thead th {\n",
       "        text-align: right;\n",
       "    }\n",
       "</style>\n",
       "<table border=\"1\" class=\"dataframe\">\n",
       "  <thead>\n",
       "    <tr style=\"text-align: right;\">\n",
       "      <th></th>\n",
       "      <th>shop_id</th>\n",
       "      <th>total_price</th>\n",
       "    </tr>\n",
       "  </thead>\n",
       "  <tbody>\n",
       "    <tr>\n",
       "      <th>13</th>\n",
       "      <td>Shop 20</td>\n",
       "      <td>-363.79</td>\n",
       "    </tr>\n",
       "    <tr>\n",
       "      <th>23</th>\n",
       "      <td>Shop 3</td>\n",
       "      <td>-382.87</td>\n",
       "    </tr>\n",
       "    <tr>\n",
       "      <th>26</th>\n",
       "      <td>Shop 5</td>\n",
       "      <td>-411.12</td>\n",
       "    </tr>\n",
       "    <tr>\n",
       "      <th>18</th>\n",
       "      <td>Shop 25</td>\n",
       "      <td>-415.99</td>\n",
       "    </tr>\n",
       "    <tr>\n",
       "      <th>19</th>\n",
       "      <td>Shop 26</td>\n",
       "      <td>-496.89</td>\n",
       "    </tr>\n",
       "  </tbody>\n",
       "</table>\n",
       "</div>"
      ],
      "text/plain": [
       "    shop_id  total_price\n",
       "13  Shop 20      -363.79\n",
       "23   Shop 3      -382.87\n",
       "26   Shop 5      -411.12\n",
       "18  Shop 25      -415.99\n",
       "19  Shop 26      -496.89"
      ]
     },
     "execution_count": 12,
     "metadata": {},
     "output_type": "execute_result"
    }
   ],
   "source": [
    "# creating returns df\n",
    "\n",
    "retail_merge_returns = retail_merge[retail_merge['total_price'] < 0]\n",
    "retail_merge_returns.head()\n",
    "\n",
    "returns_pivot = retail_merge_returns.pivot_table(\n",
    "    index = 'shop_id',\n",
    "    values = 'total_price',\n",
    "    aggfunc = 'sum'\n",
    ").reset_index().sort_values(by = 'total_price', ascending = False)\n",
    "\n",
    "returns_pivot.head()"
   ]
  },
  {
   "cell_type": "code",
   "execution_count": 13,
   "id": "1780b3ca",
   "metadata": {},
   "outputs": [
    {
     "data": {
      "text/plain": [
       "(Text(0, 0.5, 'Total Sales'),)"
      ]
     },
     "execution_count": 13,
     "metadata": {},
     "output_type": "execute_result"
    },
    {
     "data": {
      "image/png": "[encoded data removed]",
      "text/plain": [
       "<Figure size 720x504 with 1 Axes>"
      ]
     },
     "metadata": {
      "needs_background": "light"
     },
     "output_type": "display_data"
    }
   ],
   "source": [
    "# graphing total returns by shop id\n",
    "\n",
    "returns_pivot.plot(kind = 'bar', x = 'shop_id', y = 'total_price', figsize = (10,7))\n",
    "plt.title('Total Returns by Shop')\n",
    "plt.xlabel('Shop ID')\n",
    "plt.ylabel('Total Sales'),"
   ]
  },
  {
   "cell_type": "markdown",
   "id": "c9aed8e4",
   "metadata": {},
   "source": [
    "### Negative Quantity Notes\n",
    "\n",
    "We can infer from the prevelence of negative quantities in the dataset that these transactions are likely returns. While this information is useful, it impeeds analysis of purchases and so I will remove all rows with negative values in 'total_price'.\n",
    "\n",
    "Most shops have very low numbers of negative revenues, with the exception of Shop 21 which has nearly 80K recorded. This requires further external investigation to determine where this data collection issue lies. \n",
    "\n",
    "retail_merge = retail_merge[retail_merge['total_price'] > -1]\n",
    "\n",
    "retail_merge.info()"
   ]
  },
  {
   "cell_type": "code",
   "execution_count": 14,
   "id": "86c47c05",
   "metadata": {},
   "outputs": [
    {
     "data": {
      "text/html": [
       "<div>\n",
       "<style scoped>\n",
       "    .dataframe tbody tr th:only-of-type {\n",
       "        vertical-align: middle;\n",
       "    }\n",
       "\n",
       "    .dataframe tbody tr th {\n",
       "        vertical-align: top;\n",
       "    }\n",
       "\n",
       "    .dataframe thead th {\n",
       "        text-align: right;\n",
       "    }\n",
       "</style>\n",
       "<table border=\"1\" class=\"dataframe\">\n",
       "  <thead>\n",
       "    <tr style=\"text-align: right;\">\n",
       "      <th></th>\n",
       "      <th>shop_id</th>\n",
       "      <th>total_price</th>\n",
       "    </tr>\n",
       "  </thead>\n",
       "  <tbody>\n",
       "    <tr>\n",
       "      <th>7</th>\n",
       "      <td>Shop 15</td>\n",
       "      <td>111594.68</td>\n",
       "    </tr>\n",
       "    <tr>\n",
       "      <th>0</th>\n",
       "      <td>Shop 0</td>\n",
       "      <td>105236.50</td>\n",
       "    </tr>\n",
       "    <tr>\n",
       "      <th>26</th>\n",
       "      <td>Shop 5</td>\n",
       "      <td>63095.79</td>\n",
       "    </tr>\n",
       "    <tr>\n",
       "      <th>25</th>\n",
       "      <td>Shop 4</td>\n",
       "      <td>39782.97</td>\n",
       "    </tr>\n",
       "    <tr>\n",
       "      <th>13</th>\n",
       "      <td>Shop 20</td>\n",
       "      <td>39536.41</td>\n",
       "    </tr>\n",
       "  </tbody>\n",
       "</table>\n",
       "</div>"
      ],
      "text/plain": [
       "    shop_id  total_price\n",
       "7   Shop 15    111594.68\n",
       "0    Shop 0    105236.50\n",
       "26   Shop 5     63095.79\n",
       "25   Shop 4     39782.97\n",
       "13  Shop 20     39536.41"
      ]
     },
     "execution_count": 14,
     "metadata": {},
     "output_type": "execute_result"
    }
   ],
   "source": [
    "# redo the shop_pivot\n",
    "\n",
    "shop_pivotv2 = retail_merge.pivot_table(\n",
    "    index = 'shop_id',\n",
    "    values = 'total_price',\n",
    "    aggfunc = 'sum'\n",
    ").reset_index().sort_values(by = 'total_price', ascending = False)\n",
    "\n",
    "shop_pivotv2.head()"
   ]
  },
  {
   "cell_type": "code",
   "execution_count": 15,
   "id": "072c96dc",
   "metadata": {},
   "outputs": [
    {
     "data": {
      "image/png": "[encoded data removed]",
      "text/plain": [
       "<Figure size 1080x720 with 1 Axes>"
      ]
     },
     "metadata": {
      "needs_background": "light"
     },
     "output_type": "display_data"
    }
   ],
   "source": [
    "# regraph Total Sales by Shop\n",
    "\n",
    "shop_pivotv2.plot(kind = 'bar', x = 'shop_id', y = 'total_price', figsize = (15,10), grid = True)\n",
    "plt.title('Total Sales by Shop')\n",
    "plt.xlabel('Shop ID')\n",
    "plt.ylabel('Total Sales');"
   ]
  },
  {
   "cell_type": "markdown",
   "id": "2d68af22",
   "metadata": {},
   "source": [
    "### Total Sales by Shop v.2 Notes\n",
    "\n",
    "After removing the values in `total_price` below -1 the graph makes far more sense. We can see that Shops 15 (11,000), 0 (10,500), and 5 (6,250) have dramatically more sales than the rest of the shops with sales dropping gradually from around (4000) to (2000) \n"
   ]
  },
  {
   "cell_type": "code",
   "execution_count": 16,
   "id": "2a8bdbd9",
   "metadata": {},
   "outputs": [
    {
     "data": {
      "text/html": [
       "<div>\n",
       "<style scoped>\n",
       "    .dataframe tbody tr th:only-of-type {\n",
       "        vertical-align: middle;\n",
       "    }\n",
       "\n",
       "    .dataframe tbody tr th {\n",
       "        vertical-align: top;\n",
       "    }\n",
       "\n",
       "    .dataframe thead th {\n",
       "        text-align: right;\n",
       "    }\n",
       "</style>\n",
       "<table border=\"1\" class=\"dataframe\">\n",
       "  <thead>\n",
       "    <tr style=\"text-align: right;\">\n",
       "      <th></th>\n",
       "      <th>shop_id</th>\n",
       "      <th>loyalty_program</th>\n",
       "    </tr>\n",
       "  </thead>\n",
       "  <tbody>\n",
       "    <tr>\n",
       "      <th>5</th>\n",
       "      <td>Shop 13</td>\n",
       "      <td>1061</td>\n",
       "    </tr>\n",
       "    <tr>\n",
       "      <th>12</th>\n",
       "      <td>Shop 2</td>\n",
       "      <td>1000</td>\n",
       "    </tr>\n",
       "    <tr>\n",
       "      <th>17</th>\n",
       "      <td>Shop 24</td>\n",
       "      <td>985</td>\n",
       "    </tr>\n",
       "    <tr>\n",
       "      <th>1</th>\n",
       "      <td>Shop 1</td>\n",
       "      <td>985</td>\n",
       "    </tr>\n",
       "    <tr>\n",
       "      <th>3</th>\n",
       "      <td>Shop 11</td>\n",
       "      <td>928</td>\n",
       "    </tr>\n",
       "  </tbody>\n",
       "</table>\n",
       "</div>"
      ],
      "text/plain": [
       "    shop_id  loyalty_program\n",
       "5   Shop 13             1061\n",
       "12   Shop 2             1000\n",
       "17  Shop 24              985\n",
       "1    Shop 1              985\n",
       "3   Shop 11              928"
      ]
     },
     "execution_count": 16,
     "metadata": {},
     "output_type": "execute_result"
    }
   ],
   "source": [
    "loyalty_pivot = retail_merge.pivot_table(\n",
    "    index = 'shop_id',\n",
    "    values = 'loyalty_program',\n",
    "    aggfunc = 'sum'\n",
    ").reset_index().sort_values('loyalty_program', ascending = False)\n",
    "\n",
    "loyalty_pivot.head()"
   ]
  },
  {
   "cell_type": "code",
   "execution_count": 17,
   "id": "4c50607c",
   "metadata": {},
   "outputs": [
    {
     "data": {
      "image/png": "[encoded data removed]",
      "text/plain": [
       "<Figure size 1080x720 with 1 Axes>"
      ]
     },
     "metadata": {
      "needs_background": "light"
     },
     "output_type": "display_data"
    }
   ],
   "source": [
    "# Total loyalty program enrollment by Shop ID\n",
    "\n",
    "loyalty_pivot.plot(kind = 'bar', x = 'shop_id', y = 'loyalty_program', figsize = (15,10), grid = True)\n",
    "plt.title('Total Loyalty Program Enrollment by Shop')\n",
    "plt.xlabel('Shop ID')\n",
    "plt.ylabel('Total Members of Loyalty Program');"
   ]
  },
  {
   "cell_type": "markdown",
   "id": "856ce378",
   "metadata": {},
   "source": [
    "### Total Loyalty Program Enrollment Notes\n",
    "\n",
    "After examining the above bar graph we can already prove the hypothesis \"Shops with higher loyalty program utilizations will have higher sales\" is incorrect as the 3 shops with highest loyalty program enrollment are Shop 13, 2, and 1 while the shops with highest sales (15,0,5) 8th (0), 10th (15) and 11th (5) in loyalty program enrollment.  "
   ]
  },
  {
   "cell_type": "code",
   "execution_count": 18,
   "id": "8aefac7d",
   "metadata": {},
   "outputs": [
    {
     "data": {
      "text/html": [
       "<div>\n",
       "<style scoped>\n",
       "    .dataframe tbody tr th:only-of-type {\n",
       "        vertical-align: middle;\n",
       "    }\n",
       "\n",
       "    .dataframe tbody tr th {\n",
       "        vertical-align: top;\n",
       "    }\n",
       "\n",
       "    .dataframe thead th {\n",
       "        text-align: right;\n",
       "    }\n",
       "</style>\n",
       "<table border=\"1\" class=\"dataframe\">\n",
       "  <thead>\n",
       "    <tr style=\"text-align: right;\">\n",
       "      <th>loyalty_program</th>\n",
       "      <th>shop_id</th>\n",
       "      <th>0</th>\n",
       "      <th>1</th>\n",
       "    </tr>\n",
       "  </thead>\n",
       "  <tbody>\n",
       "    <tr>\n",
       "      <th>22</th>\n",
       "      <td>Shop 29</td>\n",
       "      <td>14702.74</td>\n",
       "      <td>17358.78</td>\n",
       "    </tr>\n",
       "    <tr>\n",
       "      <th>26</th>\n",
       "      <td>Shop 5</td>\n",
       "      <td>47521.92</td>\n",
       "      <td>15573.87</td>\n",
       "    </tr>\n",
       "    <tr>\n",
       "      <th>19</th>\n",
       "      <td>Shop 26</td>\n",
       "      <td>17199.07</td>\n",
       "      <td>15093.34</td>\n",
       "    </tr>\n",
       "    <tr>\n",
       "      <th>23</th>\n",
       "      <td>Shop 3</td>\n",
       "      <td>16492.31</td>\n",
       "      <td>11842.56</td>\n",
       "    </tr>\n",
       "    <tr>\n",
       "      <th>24</th>\n",
       "      <td>Shop 30</td>\n",
       "      <td>22489.04</td>\n",
       "      <td>11317.89</td>\n",
       "    </tr>\n",
       "  </tbody>\n",
       "</table>\n",
       "</div>"
      ],
      "text/plain": [
       "loyalty_program  shop_id         0         1\n",
       "22               Shop 29  14702.74  17358.78\n",
       "26                Shop 5  47521.92  15573.87\n",
       "19               Shop 26  17199.07  15093.34\n",
       "23                Shop 3  16492.31  11842.56\n",
       "24               Shop 30  22489.04  11317.89"
      ]
     },
     "execution_count": 18,
     "metadata": {},
     "output_type": "execute_result"
    }
   ],
   "source": [
    "#total sales at each shop by loyalty program enrollment\n",
    "\n",
    "loyalty_sales_pivot = retail_merge.pivot_table(\n",
    "    index = 'shop_id',\n",
    "    columns = 'loyalty_program',\n",
    "    values = 'total_price',\n",
    "    aggfunc = 'sum'\n",
    ").reset_index().sort_values(1, ascending = False)\n",
    "\n",
    "loyalty_sales_pivot.head()"
   ]
  },
  {
   "cell_type": "code",
   "execution_count": 19,
   "id": "24e8910c",
   "metadata": {},
   "outputs": [
    {
     "data": {
      "image/png": "[encoded data removed]",
      "text/plain": [
       "<Figure size 1080x720 with 1 Axes>"
      ]
     },
     "metadata": {
      "needs_background": "light"
     },
     "output_type": "display_data"
    }
   ],
   "source": [
    "# Total sales by loyalty program enrollment by Shop ID\n",
    "\n",
    "loyalty_sales_pivot.plot(kind = 'bar', x = 'shop_id', y = [0,1], figsize = (15,10), grid = True)\n",
    "plt.title('Total Sales By Loyalty Program Enrollment by Shop')\n",
    "plt.xlabel('Shop ID')\n",
    "plt.ylabel('Total Sales');"
   ]
  },
  {
   "cell_type": "markdown",
   "id": "ab142eb0",
   "metadata": {},
   "source": [
    "### Total Sales by Loyalty Program Notes\n",
    "\n",
    "We can see the three top shops by sales (0, 15, and 5) but also see how small of a portion of their sales are comprised by people in the loyalty program. Interestingly, 26, 29 and 8 are the shops with the most loyalty program sales with 29 actually having higher sales from loyalty program members than non-loyalty program members. Shop 5 is the only of the top 3 shops that has a significant portion of its sales come from loyalty_program members. "
   ]
  },
  {
   "cell_type": "code",
   "execution_count": 20,
   "id": "9a975773",
   "metadata": {},
   "outputs": [
    {
     "data": {
      "text/plain": [
       "2016-12-06    3878\n",
       "2016-12-17    3115\n",
       "2016-12-01    3108\n",
       "2016-12-07    2963\n",
       "2016-12-09    2891\n",
       "              ... \n",
       "2017-01-16     646\n",
       "2017-02-13     624\n",
       "2016-12-19     522\n",
       "2016-12-22     291\n",
       "2017-02-06     279\n",
       "Name: purchase_date, Length: 68, dtype: int64"
      ]
     },
     "execution_count": 20,
     "metadata": {},
     "output_type": "execute_result"
    }
   ],
   "source": [
    "# creating a purchase_month column\n",
    "\n",
    "retail_merge['purchase_month'] = retail_merge['purchase_date'].astype('datetime64[M]')\n",
    "\n",
    "retail_merge['purchase_month'].value_counts()\n",
    "\n",
    "retail_merge['purchase_date'] = retail_merge['purchase_date'].dt.date\n",
    "\n",
    "retail_merge['purchase_date'].value_counts()"
   ]
  },
  {
   "cell_type": "code",
   "execution_count": 21,
   "id": "f86b1242",
   "metadata": {},
   "outputs": [
    {
     "data": {
      "text/html": [
       "<div>\n",
       "<style scoped>\n",
       "    .dataframe tbody tr th:only-of-type {\n",
       "        vertical-align: middle;\n",
       "    }\n",
       "\n",
       "    .dataframe tbody tr th {\n",
       "        vertical-align: top;\n",
       "    }\n",
       "\n",
       "    .dataframe thead th {\n",
       "        text-align: right;\n",
       "    }\n",
       "</style>\n",
       "<table border=\"1\" class=\"dataframe\">\n",
       "  <thead>\n",
       "    <tr style=\"text-align: right;\">\n",
       "      <th></th>\n",
       "      <th>purchase_month</th>\n",
       "      <th>total_price</th>\n",
       "    </tr>\n",
       "  </thead>\n",
       "  <tbody>\n",
       "    <tr>\n",
       "      <th>0</th>\n",
       "      <td>2016-12-01</td>\n",
       "      <td>362182.45</td>\n",
       "    </tr>\n",
       "    <tr>\n",
       "      <th>1</th>\n",
       "      <td>2017-01-01</td>\n",
       "      <td>322105.72</td>\n",
       "    </tr>\n",
       "    <tr>\n",
       "      <th>2</th>\n",
       "      <td>2017-02-01</td>\n",
       "      <td>292762.58</td>\n",
       "    </tr>\n",
       "  </tbody>\n",
       "</table>\n",
       "</div>"
      ],
      "text/plain": [
       "  purchase_month  total_price\n",
       "0     2016-12-01    362182.45\n",
       "1     2017-01-01    322105.72\n",
       "2     2017-02-01    292762.58"
      ]
     },
     "execution_count": 21,
     "metadata": {},
     "output_type": "execute_result"
    }
   ],
   "source": [
    "# total sales by month pivot\n",
    "\n",
    "date_pivot = retail_merge.pivot_table(\n",
    "    index = 'purchase_month',\n",
    "    values = 'total_price',\n",
    "    aggfunc = 'sum'\n",
    ").reset_index()\n",
    "\n",
    "date_pivot"
   ]
  },
  {
   "cell_type": "code",
   "execution_count": 22,
   "id": "7a8fbd64",
   "metadata": {},
   "outputs": [
    {
     "data": {
      "image/png": "[encoded data removed]",
      "text/plain": [
       "<Figure size 1080x720 with 1 Axes>"
      ]
     },
     "metadata": {
      "needs_background": "light"
     },
     "output_type": "display_data"
    }
   ],
   "source": [
    "# graph total sales by month\n",
    "\n",
    "plt.figure(figsize=(15, 10))  \n",
    "sns.barplot(data = date_pivot, x = 'purchase_month', y = 'total_price')\n",
    "plt.xticks([0,1,2], ['2016-12', '2017-01','2017-02'])\n",
    "plt.title('Total Sales by Month')\n",
    "plt.xlabel('Month')\n",
    "plt.ylabel('Total Sales');"
   ]
  },
  {
   "cell_type": "markdown",
   "id": "46be7cbd",
   "metadata": {},
   "source": [
    "### Total Sales by Month Notes\n",
    "\n",
    "We can see from the above graph that were was a 100K drop in sales between February 2017 and January 2017 but only a 250K increase between December 2016 and January 2017. The increase in sales in January coincides with post-winter holidays, it is possible customers were undertaking new building projects in the new year. "
   ]
  },
  {
   "cell_type": "markdown",
   "id": "f95fc0b0",
   "metadata": {},
   "source": [
    "## Hypotheses Testing\n",
    "\n",
    "Now that EDA is finished I can move on to statistical testing. I will only be testing hypothesis 2 and 3 as hypothesis 1 was disproved during EDA. \n",
    "\n",
    "\n",
    "Hypothesis 1: Shops with higher loyalty program utilizations will have higher sales (**FALSE**)\n",
    "\n",
    "Hypothesis 2:\n",
    "\n",
    "**h0:** Customers who are part of the loyalty program DO NOT make more total purchases \n",
    "\n",
    "**h1:** Customers who are part of the loyalty program make more total purchases\n",
    "\n",
    "Hypothesis 3:\n",
    "\n",
    "**h0:** ustomers who are part of the loyalty program DO NOT have larger purchase totals\n",
    "\n",
    "**h1:** Customers who are part of the loyalty program have larger purchase totals\n"
   ]
  },
  {
   "cell_type": "code",
   "execution_count": 23,
   "id": "03be6964",
   "metadata": {},
   "outputs": [],
   "source": [
    "# dropping all rows where `customer_id = 0 to allow for grouping data by unqiue customer purchases\n",
    "\n",
    "retail_merge2 = retail_merge[retail_merge['customer_id'] != 0]"
   ]
  },
  {
   "cell_type": "code",
   "execution_count": 24,
   "id": "c15e7cc0",
   "metadata": {},
   "outputs": [
    {
     "data": {
      "text/html": [
       "<div>\n",
       "<style scoped>\n",
       "    .dataframe tbody tr th:only-of-type {\n",
       "        vertical-align: middle;\n",
       "    }\n",
       "\n",
       "    .dataframe tbody tr th {\n",
       "        vertical-align: top;\n",
       "    }\n",
       "\n",
       "    .dataframe thead th {\n",
       "        text-align: right;\n",
       "    }\n",
       "</style>\n",
       "<table border=\"1\" class=\"dataframe\">\n",
       "  <thead>\n",
       "    <tr style=\"text-align: right;\">\n",
       "      <th></th>\n",
       "      <th>customer_id</th>\n",
       "      <th>purchases</th>\n",
       "    </tr>\n",
       "  </thead>\n",
       "  <tbody>\n",
       "    <tr>\n",
       "      <th>0</th>\n",
       "      <td>22005</td>\n",
       "      <td>2</td>\n",
       "    </tr>\n",
       "    <tr>\n",
       "      <th>1</th>\n",
       "      <td>22006</td>\n",
       "      <td>2</td>\n",
       "    </tr>\n",
       "    <tr>\n",
       "      <th>2</th>\n",
       "      <td>22011</td>\n",
       "      <td>1</td>\n",
       "    </tr>\n",
       "    <tr>\n",
       "      <th>3</th>\n",
       "      <td>22012</td>\n",
       "      <td>3</td>\n",
       "    </tr>\n",
       "    <tr>\n",
       "      <th>4</th>\n",
       "      <td>22018</td>\n",
       "      <td>1</td>\n",
       "    </tr>\n",
       "  </tbody>\n",
       "</table>\n",
       "</div>"
      ],
      "text/plain": [
       "   customer_id  purchases\n",
       "0        22005          2\n",
       "1        22006          2\n",
       "2        22011          1\n",
       "3        22012          3\n",
       "4        22018          1"
      ]
     },
     "execution_count": 24,
     "metadata": {},
     "output_type": "execute_result"
    }
   ],
   "source": [
    "# create df for total purchases by unqiue customer_ids in loyalty program members\n",
    "\n",
    "purchase_members = (\n",
    "    retail_merge2[retail_merge2['loyalty_program'] == 1]\n",
    "    .groupby('customer_id', as_index=False)\n",
    "    .agg({'purchase_id': pd.Series.nunique})\n",
    ")\n",
    "    \n",
    "purchase_members.columns = ['customer_id', 'purchases']\n",
    "purchase_members.head()"
   ]
  },
  {
   "cell_type": "code",
   "execution_count": 25,
   "id": "e0be4449",
   "metadata": {},
   "outputs": [
    {
     "data": {
      "text/html": [
       "<div>\n",
       "<style scoped>\n",
       "    .dataframe tbody tr th:only-of-type {\n",
       "        vertical-align: middle;\n",
       "    }\n",
       "\n",
       "    .dataframe tbody tr th {\n",
       "        vertical-align: top;\n",
       "    }\n",
       "\n",
       "    .dataframe thead th {\n",
       "        text-align: right;\n",
       "    }\n",
       "</style>\n",
       "<table border=\"1\" class=\"dataframe\">\n",
       "  <thead>\n",
       "    <tr style=\"text-align: right;\">\n",
       "      <th></th>\n",
       "      <th>customer_id</th>\n",
       "      <th>purchases</th>\n",
       "    </tr>\n",
       "  </thead>\n",
       "  <tbody>\n",
       "    <tr>\n",
       "      <th>0</th>\n",
       "      <td>18025</td>\n",
       "      <td>2</td>\n",
       "    </tr>\n",
       "    <tr>\n",
       "      <th>1</th>\n",
       "      <td>18026</td>\n",
       "      <td>2</td>\n",
       "    </tr>\n",
       "    <tr>\n",
       "      <th>2</th>\n",
       "      <td>18027</td>\n",
       "      <td>2</td>\n",
       "    </tr>\n",
       "    <tr>\n",
       "      <th>3</th>\n",
       "      <td>18029</td>\n",
       "      <td>1</td>\n",
       "    </tr>\n",
       "    <tr>\n",
       "      <th>4</th>\n",
       "      <td>18031</td>\n",
       "      <td>1</td>\n",
       "    </tr>\n",
       "  </tbody>\n",
       "</table>\n",
       "</div>"
      ],
      "text/plain": [
       "   customer_id  purchases\n",
       "0        18025          2\n",
       "1        18026          2\n",
       "2        18027          2\n",
       "3        18029          1\n",
       "4        18031          1"
      ]
     },
     "execution_count": 25,
     "metadata": {},
     "output_type": "execute_result"
    }
   ],
   "source": [
    "# create df for total purchases by unqiue customer_ids in non-loyalty program members\n",
    "\n",
    "purchase_nonmembers = (\n",
    "    retail_merge2[retail_merge2['loyalty_program'] == 0]\n",
    "    .groupby('customer_id', as_index=False)\n",
    "    .agg({'purchase_id': pd.Series.nunique})\n",
    ")\n",
    "    \n",
    "purchase_nonmembers.columns = ['customer_id', 'purchases']\n",
    "purchase_nonmembers.head()"
   ]
  },
  {
   "cell_type": "code",
   "execution_count": 26,
   "id": "5d4d5016",
   "metadata": {},
   "outputs": [
    {
     "data": {
      "image/png": "[encoded data removed]",
      "text/plain": [
       "<Figure size 1080x720 with 1 Axes>"
      ]
     },
     "metadata": {
      "needs_background": "light"
     },
     "output_type": "display_data"
    }
   ],
   "source": [
    "# graph distribution of total purchases in each group\n",
    "\n",
    "plt.figure(figsize = (15,10))\n",
    "sns.histplot(purchase_nonmembers['purchases'], bins = 50, color = 'red')\n",
    "sns.histplot(purchase_members['purchases'], bins = 50, color = 'green')\n",
    "plt.title('Total Purchases for Members & Nonmembers')\n",
    "plt.ylabel('Frequency')\n",
    "plt.xlabel('Total Purchases');"
   ]
  },
  {
   "cell_type": "code",
   "execution_count": 27,
   "id": "2bfc1cdf",
   "metadata": {},
   "outputs": [],
   "source": [
    "# drop outliers (>20 purchases)\n",
    "\n",
    "purchase_members_norm = purchase_members[purchase_members['purchases'] < 20]\n",
    "purchase_nonmembers_norm = purchase_nonmembers[purchase_nonmembers['purchases'] < 20]"
   ]
  },
  {
   "cell_type": "code",
   "execution_count": 28,
   "id": "81cf9bf6",
   "metadata": {},
   "outputs": [
    {
     "name": "stdout",
     "output_type": "stream",
     "text": [
      "p-value:  0.1514024124711114\n",
      "Failed to reject the null hypothesis: we can't make conclusions about the difference\n"
     ]
    }
   ],
   "source": [
    "#h0: Customers who are part of the loyalty program DO NOT make more total purchases\n",
    "#h1: Customers who are part of the loyalty program make more total purchases\n",
    "\n",
    "alpha = .05\n",
    "\n",
    "results = st.mannwhitneyu(purchase_nonmembers_norm['purchases'], purchase_members_norm['purchases'], True, 'less')\n",
    "\n",
    "print('p-value: ', results.pvalue)\n",
    "\n",
    "if (results.pvalue < alpha):\n",
    "    print(\"Null hypothesis rejected: the difference is statistically significant\")\n",
    "else:\n",
    "    print(\"Failed to reject the null hypothesis: we can't make conclusions about the difference\")"
   ]
  },
  {
   "cell_type": "markdown",
   "id": "ce3b03ad",
   "metadata": {},
   "source": [
    "### Hypothesis 2 Notes\n",
    "\n",
    "After running a statistical test on the total purchases made by customers not in the loyalty program and in the loyalty program we got the outcome \"Failed to reject the null hypothesis\" meaning that the hypothsis \"Customers who are part of the loyalty program make more total purchases\" is untrue and there is not a statistically significant difference between either groups."
   ]
  },
  {
   "cell_type": "code",
   "execution_count": 29,
   "id": "5d7a1882",
   "metadata": {},
   "outputs": [
    {
     "data": {
      "text/html": [
       "<div>\n",
       "<style scoped>\n",
       "    .dataframe tbody tr th:only-of-type {\n",
       "        vertical-align: middle;\n",
       "    }\n",
       "\n",
       "    .dataframe tbody tr th {\n",
       "        vertical-align: top;\n",
       "    }\n",
       "\n",
       "    .dataframe thead th {\n",
       "        text-align: right;\n",
       "    }\n",
       "</style>\n",
       "<table border=\"1\" class=\"dataframe\">\n",
       "  <thead>\n",
       "    <tr style=\"text-align: right;\">\n",
       "      <th></th>\n",
       "      <th>customer_id</th>\n",
       "      <th>total_spent</th>\n",
       "    </tr>\n",
       "  </thead>\n",
       "  <tbody>\n",
       "    <tr>\n",
       "      <th>537</th>\n",
       "      <td>23781</td>\n",
       "      <td>32524.57</td>\n",
       "    </tr>\n",
       "    <tr>\n",
       "      <th>350</th>\n",
       "      <td>23190</td>\n",
       "      <td>14981.22</td>\n",
       "    </tr>\n",
       "    <tr>\n",
       "      <th>336</th>\n",
       "      <td>23129</td>\n",
       "      <td>7511.90</td>\n",
       "    </tr>\n",
       "    <tr>\n",
       "      <th>97</th>\n",
       "      <td>22363</td>\n",
       "      <td>7027.62</td>\n",
       "    </tr>\n",
       "    <tr>\n",
       "      <th>26</th>\n",
       "      <td>22101</td>\n",
       "      <td>5610.69</td>\n",
       "    </tr>\n",
       "  </tbody>\n",
       "</table>\n",
       "</div>"
      ],
      "text/plain": [
       "     customer_id  total_spent\n",
       "537        23781     32524.57\n",
       "350        23190     14981.22\n",
       "336        23129      7511.90\n",
       "97         22363      7027.62\n",
       "26         22101      5610.69"
      ]
     },
     "execution_count": 29,
     "metadata": {},
     "output_type": "execute_result"
    }
   ],
   "source": [
    "# create df for total purchase size by unqiue customer_ids in loyalty program members\n",
    "\n",
    "sales_members = (\n",
    "    retail_merge2[retail_merge2['loyalty_program'] == 1]\n",
    "    .groupby('customer_id', as_index=False)\n",
    "    .agg({'total_price': pd.Series.sum})\n",
    ")\n",
    "    \n",
    "sales_members.columns = ['customer_id', 'total_spent']\n",
    "sales_members.sort_values('total_spent', ascending = False).head()"
   ]
  },
  {
   "cell_type": "code",
   "execution_count": 30,
   "id": "9d8806c9",
   "metadata": {},
   "outputs": [
    {
     "data": {
      "text/html": [
       "<div>\n",
       "<style scoped>\n",
       "    .dataframe tbody tr th:only-of-type {\n",
       "        vertical-align: middle;\n",
       "    }\n",
       "\n",
       "    .dataframe tbody tr th {\n",
       "        vertical-align: top;\n",
       "    }\n",
       "\n",
       "    .dataframe thead th {\n",
       "        text-align: right;\n",
       "    }\n",
       "</style>\n",
       "<table border=\"1\" class=\"dataframe\">\n",
       "  <thead>\n",
       "    <tr style=\"text-align: right;\">\n",
       "      <th></th>\n",
       "      <th>customer_id</th>\n",
       "      <th>total_spent</th>\n",
       "    </tr>\n",
       "  </thead>\n",
       "  <tbody>\n",
       "    <tr>\n",
       "      <th>701</th>\n",
       "      <td>20325</td>\n",
       "      <td>47418.71</td>\n",
       "    </tr>\n",
       "    <tr>\n",
       "      <th>544</th>\n",
       "      <td>19835</td>\n",
       "      <td>16955.23</td>\n",
       "    </tr>\n",
       "    <tr>\n",
       "      <th>24</th>\n",
       "      <td>18094</td>\n",
       "      <td>16510.13</td>\n",
       "    </tr>\n",
       "    <tr>\n",
       "      <th>1086</th>\n",
       "      <td>21708</td>\n",
       "      <td>15045.48</td>\n",
       "    </tr>\n",
       "    <tr>\n",
       "      <th>1001</th>\n",
       "      <td>21428</td>\n",
       "      <td>10235.45</td>\n",
       "    </tr>\n",
       "  </tbody>\n",
       "</table>\n",
       "</div>"
      ],
      "text/plain": [
       "      customer_id  total_spent\n",
       "701         20325     47418.71\n",
       "544         19835     16955.23\n",
       "24          18094     16510.13\n",
       "1086        21708     15045.48\n",
       "1001        21428     10235.45"
      ]
     },
     "execution_count": 30,
     "metadata": {},
     "output_type": "execute_result"
    }
   ],
   "source": [
    "# create df for total purchase size by unqiue customer_ids in non-loyalty program members\n",
    "\n",
    "sales_nonmembers = (\n",
    "    retail_merge2[retail_merge2['loyalty_program'] == 0]\n",
    "    .groupby('customer_id', as_index=False)\n",
    "    .agg({'total_price': pd.Series.sum})\n",
    ")\n",
    "    \n",
    "sales_nonmembers.columns = ['customer_id', 'total_spent']\n",
    "sales_nonmembers.sort_values('total_spent', ascending = False).head()"
   ]
  },
  {
   "cell_type": "code",
   "execution_count": 31,
   "id": "bfeb870c",
   "metadata": {},
   "outputs": [
    {
     "data": {
      "image/png": "[encoded data removed]",
      "text/plain": [
       "<Figure size 1080x720 with 1 Axes>"
      ]
     },
     "metadata": {
      "needs_background": "light"
     },
     "output_type": "display_data"
    }
   ],
   "source": [
    "# check distribution of total purchase size in each group\n",
    "\n",
    "plt.figure(figsize = (15,10))\n",
    "sns.histplot(sales_nonmembers['total_spent'], bins = 50, color = 'red')\n",
    "sns.histplot(sales_members['total_spent'], bins = 50, color = 'green')\n",
    "plt.title('Total Spent for Members & Nonmembers')\n",
    "plt.ylabel('Frequency')\n",
    "plt.xlabel('Total Spent');"
   ]
  },
  {
   "cell_type": "code",
   "execution_count": 32,
   "id": "b1597193",
   "metadata": {},
   "outputs": [],
   "source": [
    "# drop outliers (>20,000 dollars)\n",
    "\n",
    "sales_members_norm = sales_members[sales_members['total_spent'] < 20_000]\n",
    "sales_nonmembers_norm = sales_nonmembers[sales_nonmembers['total_spent'] < 20_000]"
   ]
  },
  {
   "cell_type": "code",
   "execution_count": 33,
   "id": "c9a7bcf6",
   "metadata": {},
   "outputs": [
    {
     "name": "stdout",
     "output_type": "stream",
     "text": [
      "p-value:  0.9620616483393305\n",
      "Failed to reject the null hypothesis: we can't make conclusions about the difference\n"
     ]
    }
   ],
   "source": [
    "# h0: ustomers who are part of the loyalty program DO NOT have larger purchase totals\n",
    "# h1: Customers who are part of the loyalty program have larger purchase totals\n",
    "\n",
    "alpha = .05\n",
    "\n",
    "results = st.mannwhitneyu(sales_nonmembers_norm['total_spent'], sales_members_norm['total_spent'], True, 'less')\n",
    "\n",
    "print('p-value: ', results.pvalue)\n",
    "\n",
    "if (results.pvalue < alpha):\n",
    "    print(\"Null hypothesis rejected: the difference is statistically significant\")\n",
    "else:\n",
    "    print(\"Failed to reject the null hypothesis: we can't make conclusions about the difference\")"
   ]
  },
  {
   "cell_type": "markdown",
   "id": "40553cab",
   "metadata": {},
   "source": [
    "### Hypothesis 3 Notes\n",
    "\n",
    "After running a statistical test on the total spending by customers not in the loyalty program and in the loyalty program we got the outcome \"Failed to reject the null hypothesis\" meaning that the hypothsis \"Customers who are part of the loyalty program have larger purchase totals\" is untrue and there is not a statistically significant difference between either groups."
   ]
  },
  {
   "cell_type": "markdown",
   "id": "e221c044",
   "metadata": {},
   "source": [
    "# Conclusion\n",
    "\n",
    "The goal of this analysis is to \"Assess the performance of the chain's sales outlets\". To this end I have examined the data to determine which shops are highest and lowest in sales, how loyalty program enrollment is doing and its impact on sales at each shop, and how total sales have changed over the three months the data includes. I also ran statistical tests on the total purchases and total spent by loyalty program members vs non-loyalty program members to determine how the loyalty program impacted customer buy habits. Below are my findings:\n",
    "\n",
    "Top 3 stores by sales: Shops 15, 0, and 5\n",
    "\n",
    "Bottom 3 stores by sales: Shops 12, 16, and 21\n",
    "\n",
    "Top 3 stores by loyalty program enrollment: Shops 13, 2, and 1\n",
    "\n",
    "Bottom 3 stores by loyalty program enrollment: Shops 12, 6, and 4 \n",
    "\n",
    "Top 3 shops by sales from loyalty program members: Shops 25, 5, and 26\n",
    "\n",
    "Bottom 3 shops by sales from loyalty program members: Shops 27, 10, and 28\n",
    "\n",
    "Sales over time: 25k increase between December and January, 10k drop between January and February\n",
    "\n",
    "Returns: Shop 21 has nearly 80K recorded in returns, this should be investigated directly to determine the cause of this response. \n",
    "\n",
    "**Hypotheses**\n",
    "\n",
    "Hypothesis 1: Shops with higher loyalty program utilizations will have higher sales **(FALSE)**\n",
    "\n",
    "Hypothesis 2: Customers who are part of the loyalty program make more total purchases **(False)**\n",
    "\n",
    "Hypothesis 3: Customers who are part of the loyalty program have larger purchase totals **(False)**\n",
    "\n",
    "All three hypotheses were rejected in the course of my analysis which leads me to conclude that the loyalty program does not have a significant effect on customer buying habits. While that does not mean the loyalty program is entirely useless, it does not indicate it is a successful means on increasing total sales or incentives more purchases. I do not reccomend investing large amout of resources into that project.\n",
    "\n",
    "**Recommendation**\n",
    "\n",
    "Shops 15, 0 and 5 have dramatically higher sales than any other stores but only Shop 5 overlaps top sales with top sales among loyalty program members. Focusing on increasing sales in Shops 25 and 26 MAY prove extra effective given the already high loyalty program enrollment.  \n",
    "\n"
   ]
  },
  {
   "cell_type": "markdown",
   "id": "b6830adf",
   "metadata": {},
   "source": [
    "# Documentation\n",
    "\n",
    "- https://pandas.pydata.org/docs/reference/api/pandas.DataFrame.sort_values.html: referenced to order graphs by decreasing values\n",
    "\n",
    "- https://seaborn.pydata.org/generated/seaborn.barplot.html: referenced for code structure\n",
    "\n",
    "- https://matplotlib.org/stable/api/_as_gen/matplotlib.pyplot.xticks.html: referenced to improve legibility of graphs\n",
    "\n",
    "- https://docs.scipy.org/doc/scipy/reference/generated/scipy.stats.mannwhitneyu.html: referenced for code stucture and to confirm relevence\n",
    "\n",
    "- https://medium.com/swlh/hypothesis-testing-in-data-science-afccd58b52da: referenced for guidance on statistical tests\n",
    "\n",
    "- https://help.tableau.com/current/pro/desktop/en-us/calculations_calculatedfields_formulas.htm: referenced during tableau portion to help create new columns"
   ]
  }
 ],
 "metadata": {
  "kernelspec": {
   "display_name": "Python 3 (ipykernel)",
   "language": "python",
   "name": "python3"
  },
  "language_info": {
   "codemirror_mode": {
    "name": "ipython",
    "version": 3
   },
   "file_extension": ".py",
   "mimetype": "text/x-python",
   "name": "python",
   "nbconvert_exporter": "python",
   "pygments_lexer": "ipython3",
   "version": "3.9.7"
  }
 },
 "nbformat": 4,
 "nbformat_minor": 5
}
