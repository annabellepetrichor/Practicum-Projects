{
  "cells": [
    {
      "cell_type": "markdown",
      "metadata": {
        "id": "FJ7oeV84KU2i"
      },
      "source": [
        "# Introduction\n",
        "\n",
        "This notebook constitutes the SQL portion of my Practicum Final Project. Here I will be diving in to a database of a startup attempting to create a new app for book lovers following the sudden increase in demand caused by the coronavirus pandemic. \n",
        "\n",
        "My goal is to generate a value proposition for a new product. The tasks for this project focus on isolating books for large numbers of high ratings to to determine which publishers and authors are most popular. "
      ]
    },
    {
      "cell_type": "markdown",
      "metadata": {
        "id": "YKeWfiwmKU2o"
      },
      "source": [
        "## Initialization"
      ]
    },
    {
      "cell_type": "code",
      "execution_count": null,
      "metadata": {
        "id": "aj6w95P6KU2q"
      },
      "outputs": [],
      "source": [
        "# import libraries\n",
        "import pandas as pd\n",
        "from sqlalchemy import create_engine"
      ]
    },
    {
      "cell_type": "code",
      "execution_count": null,
      "metadata": {
        "id": "RXpUW-54KU2s"
      },
      "outputs": [],
      "source": [
        "# create database pipeline\n",
        "\n",
        "db_config = {'user': 'practicum_student',         # username\n",
        "             'pwd': 's65BlTKV3faNIGhmvJVzOqhs', # password\n",
        "             'host': 'rc1b-wcoijxj3yxfsf3fs.mdb.yandexcloud.net',\n",
        "             'port': 6432,              # connection port\n",
        "             'db': 'data-analyst-final-project-db'}          # the name of the database\n",
        "\n",
        "connection_string = 'postgresql://{}:{}@{}:{}/{}'.format(db_config['user'],\n",
        "                                                                     db_config['pwd'],\n",
        "                                                                       db_config['host'],\n",
        "                                                                       db_config['port'],\n",
        "                                                                       db_config['db'])\n",
        "\n",
        "engine = create_engine(connection_string, connect_args={'sslmode':'require'})"
      ]
    },
    {
      "cell_type": "code",
      "execution_count": null,
      "metadata": {
        "scrolled": true,
        "id": "Me2cuvlpKU2x",
        "outputId": "ee2092ba-5f41-4190-bc1c-6af816c8f970"
      },
      "outputs": [
        {
          "data": {
            "text/html": [
              "<div>\n",
              "<style scoped>\n",
              "    .dataframe tbody tr th:only-of-type {\n",
              "        vertical-align: middle;\n",
              "    }\n",
              "\n",
              "    .dataframe tbody tr th {\n",
              "        vertical-align: top;\n",
              "    }\n",
              "\n",
              "    .dataframe thead th {\n",
              "        text-align: right;\n",
              "    }\n",
              "</style>\n",
              "<table border=\"1\" class=\"dataframe\">\n",
              "  <thead>\n",
              "    <tr style=\"text-align: right;\">\n",
              "      <th></th>\n",
              "      <th>book_id</th>\n",
              "      <th>author_id</th>\n",
              "      <th>title</th>\n",
              "      <th>num_pages</th>\n",
              "      <th>publication_date</th>\n",
              "      <th>publisher_id</th>\n",
              "    </tr>\n",
              "  </thead>\n",
              "  <tbody>\n",
              "    <tr>\n",
              "      <th>0</th>\n",
              "      <td>1</td>\n",
              "      <td>546</td>\n",
              "      <td>'Salem's Lot</td>\n",
              "      <td>594</td>\n",
              "      <td>2005-11-01</td>\n",
              "      <td>93</td>\n",
              "    </tr>\n",
              "    <tr>\n",
              "      <th>1</th>\n",
              "      <td>2</td>\n",
              "      <td>465</td>\n",
              "      <td>1 000 Places to See Before You Die</td>\n",
              "      <td>992</td>\n",
              "      <td>2003-05-22</td>\n",
              "      <td>336</td>\n",
              "    </tr>\n",
              "    <tr>\n",
              "      <th>2</th>\n",
              "      <td>3</td>\n",
              "      <td>407</td>\n",
              "      <td>13 Little Blue Envelopes (Little Blue Envelope...</td>\n",
              "      <td>322</td>\n",
              "      <td>2010-12-21</td>\n",
              "      <td>135</td>\n",
              "    </tr>\n",
              "  </tbody>\n",
              "</table>\n",
              "</div>"
            ],
            "text/plain": [
              "   book_id  author_id                                              title  \\\n",
              "0        1        546                                       'Salem's Lot   \n",
              "1        2        465                 1 000 Places to See Before You Die   \n",
              "2        3        407  13 Little Blue Envelopes (Little Blue Envelope...   \n",
              "\n",
              "   num_pages publication_date  publisher_id  \n",
              "0        594       2005-11-01            93  \n",
              "1        992       2003-05-22           336  \n",
              "2        322       2010-12-21           135  "
            ]
          },
          "execution_count": 3,
          "metadata": {},
          "output_type": "execute_result"
        }
      ],
      "source": [
        "# printing top 3 rows from `books` table\n",
        "\n",
        "query = ''' SELECT *\n",
        "                FROM books\n",
        "                LIMIT 3\n",
        "            '''\n",
        "\n",
        "pd.io.sql.read_sql(query, con = engine)"
      ]
    },
    {
      "cell_type": "markdown",
      "metadata": {
        "id": "JtfqgsouKU2y"
      },
      "source": [
        "Description of `books`:\n",
        "\n",
        "- `book_id`\n",
        "- `author_id`\n",
        "- `title`\n",
        "- `num_pages` — number of pages\n",
        "- `publication_date`\n",
        "- `publisher_id`"
      ]
    },
    {
      "cell_type": "code",
      "execution_count": null,
      "metadata": {
        "scrolled": true,
        "id": "ydFNybEyKU20",
        "outputId": "f3982e8d-5fdb-424f-d826-643fb0973c53"
      },
      "outputs": [
        {
          "data": {
            "text/html": [
              "<div>\n",
              "<style scoped>\n",
              "    .dataframe tbody tr th:only-of-type {\n",
              "        vertical-align: middle;\n",
              "    }\n",
              "\n",
              "    .dataframe tbody tr th {\n",
              "        vertical-align: top;\n",
              "    }\n",
              "\n",
              "    .dataframe thead th {\n",
              "        text-align: right;\n",
              "    }\n",
              "</style>\n",
              "<table border=\"1\" class=\"dataframe\">\n",
              "  <thead>\n",
              "    <tr style=\"text-align: right;\">\n",
              "      <th></th>\n",
              "      <th>book_id</th>\n",
              "    </tr>\n",
              "  </thead>\n",
              "  <tbody>\n",
              "  </tbody>\n",
              "</table>\n",
              "</div>"
            ],
            "text/plain": [
              "Empty DataFrame\n",
              "Columns: [book_id]\n",
              "Index: []"
            ]
          },
          "execution_count": 4,
          "metadata": {},
          "output_type": "execute_result"
        }
      ],
      "source": [
        "# checking for duplicate values\n",
        "\n",
        "query = '''\n",
        "SELECT book_id\n",
        "FROM books\n",
        "GROUP BY book_id\n",
        "HAVING COUNT(book_id) > 1\n",
        "'''\n",
        "\n",
        "pd.io.sql.read_sql(query, con = engine)"
      ]
    },
    {
      "cell_type": "code",
      "execution_count": null,
      "metadata": {
        "scrolled": true,
        "id": "QGSnogviKU22",
        "outputId": "a313e086-0375-4827-c94c-268e4b25899d"
      },
      "outputs": [
        {
          "data": {
            "text/html": [
              "<div>\n",
              "<style scoped>\n",
              "    .dataframe tbody tr th:only-of-type {\n",
              "        vertical-align: middle;\n",
              "    }\n",
              "\n",
              "    .dataframe tbody tr th {\n",
              "        vertical-align: top;\n",
              "    }\n",
              "\n",
              "    .dataframe thead th {\n",
              "        text-align: right;\n",
              "    }\n",
              "</style>\n",
              "<table border=\"1\" class=\"dataframe\">\n",
              "  <thead>\n",
              "    <tr style=\"text-align: right;\">\n",
              "      <th></th>\n",
              "      <th>book_id</th>\n",
              "      <th>author_id</th>\n",
              "      <th>title</th>\n",
              "      <th>num_pages</th>\n",
              "      <th>publication_date</th>\n",
              "      <th>publisher_id</th>\n",
              "    </tr>\n",
              "  </thead>\n",
              "  <tbody>\n",
              "  </tbody>\n",
              "</table>\n",
              "</div>"
            ],
            "text/plain": [
              "Empty DataFrame\n",
              "Columns: [book_id, author_id, title, num_pages, publication_date, publisher_id]\n",
              "Index: []"
            ]
          },
          "execution_count": 5,
          "metadata": {},
          "output_type": "execute_result"
        }
      ],
      "source": [
        "# checking for null values\n",
        "\n",
        "query = '''\n",
        "SELECT *\n",
        "FROM books\n",
        "WHERE coalesce(book_id, author_id, num_pages, publisher_id) IS NULL\n",
        "'''\n",
        "\n",
        "pd.io.sql.read_sql(query, con = engine)"
      ]
    },
    {
      "cell_type": "code",
      "execution_count": null,
      "metadata": {
        "scrolled": true,
        "id": "tbPforG2KU23",
        "outputId": "92148278-ccf7-4575-e137-d87cfa873faa"
      },
      "outputs": [
        {
          "data": {
            "text/html": [
              "<div>\n",
              "<style scoped>\n",
              "    .dataframe tbody tr th:only-of-type {\n",
              "        vertical-align: middle;\n",
              "    }\n",
              "\n",
              "    .dataframe tbody tr th {\n",
              "        vertical-align: top;\n",
              "    }\n",
              "\n",
              "    .dataframe thead th {\n",
              "        text-align: right;\n",
              "    }\n",
              "</style>\n",
              "<table border=\"1\" class=\"dataframe\">\n",
              "  <thead>\n",
              "    <tr style=\"text-align: right;\">\n",
              "      <th></th>\n",
              "      <th>book_id</th>\n",
              "      <th>author_id</th>\n",
              "      <th>title</th>\n",
              "      <th>num_pages</th>\n",
              "      <th>publication_date</th>\n",
              "      <th>publisher_id</th>\n",
              "    </tr>\n",
              "  </thead>\n",
              "  <tbody>\n",
              "  </tbody>\n",
              "</table>\n",
              "</div>"
            ],
            "text/plain": [
              "Empty DataFrame\n",
              "Columns: [book_id, author_id, title, num_pages, publication_date, publisher_id]\n",
              "Index: []"
            ]
          },
          "execution_count": 6,
          "metadata": {},
          "output_type": "execute_result"
        }
      ],
      "source": [
        "query = '''\n",
        "SELECT *\n",
        "FROM books\n",
        "WHERE title IS NULL\n",
        "'''\n",
        "\n",
        "pd.io.sql.read_sql(query, con = engine)"
      ]
    },
    {
      "cell_type": "code",
      "execution_count": null,
      "metadata": {
        "id": "nfZLYX9MKU26",
        "outputId": "180d6406-c5f1-4d90-e7d2-5ef9a2546859"
      },
      "outputs": [
        {
          "data": {
            "text/html": [
              "<div>\n",
              "<style scoped>\n",
              "    .dataframe tbody tr th:only-of-type {\n",
              "        vertical-align: middle;\n",
              "    }\n",
              "\n",
              "    .dataframe tbody tr th {\n",
              "        vertical-align: top;\n",
              "    }\n",
              "\n",
              "    .dataframe thead th {\n",
              "        text-align: right;\n",
              "    }\n",
              "</style>\n",
              "<table border=\"1\" class=\"dataframe\">\n",
              "  <thead>\n",
              "    <tr style=\"text-align: right;\">\n",
              "      <th></th>\n",
              "      <th>book_id</th>\n",
              "      <th>author_id</th>\n",
              "      <th>title</th>\n",
              "      <th>num_pages</th>\n",
              "      <th>publication_date</th>\n",
              "      <th>publisher_id</th>\n",
              "    </tr>\n",
              "  </thead>\n",
              "  <tbody>\n",
              "  </tbody>\n",
              "</table>\n",
              "</div>"
            ],
            "text/plain": [
              "Empty DataFrame\n",
              "Columns: [book_id, author_id, title, num_pages, publication_date, publisher_id]\n",
              "Index: []"
            ]
          },
          "execution_count": 7,
          "metadata": {},
          "output_type": "execute_result"
        }
      ],
      "source": [
        "query = '''\n",
        "SELECT *\n",
        "FROM books\n",
        "WHERE publication_date IS NULL\n",
        "'''\n",
        "\n",
        "pd.io.sql.read_sql(query, con = engine)"
      ]
    },
    {
      "cell_type": "code",
      "execution_count": null,
      "metadata": {
        "id": "6NCmXMsqKU28",
        "outputId": "af20ef24-bc34-44d0-cb29-4ef4d3741daf"
      },
      "outputs": [
        {
          "data": {
            "text/html": [
              "<div>\n",
              "<style scoped>\n",
              "    .dataframe tbody tr th:only-of-type {\n",
              "        vertical-align: middle;\n",
              "    }\n",
              "\n",
              "    .dataframe tbody tr th {\n",
              "        vertical-align: top;\n",
              "    }\n",
              "\n",
              "    .dataframe thead th {\n",
              "        text-align: right;\n",
              "    }\n",
              "</style>\n",
              "<table border=\"1\" class=\"dataframe\">\n",
              "  <thead>\n",
              "    <tr style=\"text-align: right;\">\n",
              "      <th></th>\n",
              "      <th>author_id</th>\n",
              "      <th>author</th>\n",
              "    </tr>\n",
              "  </thead>\n",
              "  <tbody>\n",
              "    <tr>\n",
              "      <th>0</th>\n",
              "      <td>1</td>\n",
              "      <td>A.S. Byatt</td>\n",
              "    </tr>\n",
              "    <tr>\n",
              "      <th>1</th>\n",
              "      <td>2</td>\n",
              "      <td>Aesop/Laura Harris/Laura Gibbs</td>\n",
              "    </tr>\n",
              "    <tr>\n",
              "      <th>2</th>\n",
              "      <td>3</td>\n",
              "      <td>Agatha Christie</td>\n",
              "    </tr>\n",
              "  </tbody>\n",
              "</table>\n",
              "</div>"
            ],
            "text/plain": [
              "   author_id                          author\n",
              "0          1                      A.S. Byatt\n",
              "1          2  Aesop/Laura Harris/Laura Gibbs\n",
              "2          3                 Agatha Christie"
            ]
          },
          "execution_count": 8,
          "metadata": {},
          "output_type": "execute_result"
        }
      ],
      "source": [
        "# printing top 3 rows from `authors` table\n",
        "\n",
        "query = ''' SELECT *\n",
        "                FROM authors\n",
        "                LIMIT 3\n",
        "            '''\n",
        "\n",
        "pd.io.sql.read_sql(query, con = engine)"
      ]
    },
    {
      "cell_type": "markdown",
      "metadata": {
        "id": "r877hdYeKU29"
      },
      "source": [
        "Description of `authors`:\n",
        "\n",
        "- `author_id`\n",
        "- `author`"
      ]
    },
    {
      "cell_type": "code",
      "execution_count": null,
      "metadata": {
        "scrolled": true,
        "id": "JfdIEBoKKU2-",
        "outputId": "0778e399-332c-46fc-f23e-ac80fc38d112"
      },
      "outputs": [
        {
          "data": {
            "text/html": [
              "<div>\n",
              "<style scoped>\n",
              "    .dataframe tbody tr th:only-of-type {\n",
              "        vertical-align: middle;\n",
              "    }\n",
              "\n",
              "    .dataframe tbody tr th {\n",
              "        vertical-align: top;\n",
              "    }\n",
              "\n",
              "    .dataframe thead th {\n",
              "        text-align: right;\n",
              "    }\n",
              "</style>\n",
              "<table border=\"1\" class=\"dataframe\">\n",
              "  <thead>\n",
              "    <tr style=\"text-align: right;\">\n",
              "      <th></th>\n",
              "      <th>author_id</th>\n",
              "    </tr>\n",
              "  </thead>\n",
              "  <tbody>\n",
              "  </tbody>\n",
              "</table>\n",
              "</div>"
            ],
            "text/plain": [
              "Empty DataFrame\n",
              "Columns: [author_id]\n",
              "Index: []"
            ]
          },
          "execution_count": 9,
          "metadata": {},
          "output_type": "execute_result"
        }
      ],
      "source": [
        "# checking for duplicate values\n",
        "\n",
        "query = '''\n",
        "SELECT author_id\n",
        "FROM authors\n",
        "GROUP BY author_id\n",
        "HAVING COUNT(author_id) > 1\n",
        "'''\n",
        "\n",
        "pd.io.sql.read_sql(query, con = engine)"
      ]
    },
    {
      "cell_type": "code",
      "execution_count": null,
      "metadata": {
        "id": "8D1pHaH2KU2-",
        "outputId": "36b0126f-26a7-4230-ae81-f36fc7338c9a"
      },
      "outputs": [
        {
          "data": {
            "text/html": [
              "<div>\n",
              "<style scoped>\n",
              "    .dataframe tbody tr th:only-of-type {\n",
              "        vertical-align: middle;\n",
              "    }\n",
              "\n",
              "    .dataframe tbody tr th {\n",
              "        vertical-align: top;\n",
              "    }\n",
              "\n",
              "    .dataframe thead th {\n",
              "        text-align: right;\n",
              "    }\n",
              "</style>\n",
              "<table border=\"1\" class=\"dataframe\">\n",
              "  <thead>\n",
              "    <tr style=\"text-align: right;\">\n",
              "      <th></th>\n",
              "      <th>author_id</th>\n",
              "      <th>author</th>\n",
              "    </tr>\n",
              "  </thead>\n",
              "  <tbody>\n",
              "  </tbody>\n",
              "</table>\n",
              "</div>"
            ],
            "text/plain": [
              "Empty DataFrame\n",
              "Columns: [author_id, author]\n",
              "Index: []"
            ]
          },
          "execution_count": 10,
          "metadata": {},
          "output_type": "execute_result"
        }
      ],
      "source": [
        "# checking for null values\n",
        "\n",
        "query = '''\n",
        "SELECT *\n",
        "FROM authors\n",
        "WHERE author_id IS NULL\n",
        "'''\n",
        "\n",
        "pd.io.sql.read_sql(query, con = engine)"
      ]
    },
    {
      "cell_type": "code",
      "execution_count": null,
      "metadata": {
        "scrolled": true,
        "id": "kFpegOIDKU2_",
        "outputId": "fa5ccf8f-d53f-4e1a-db0e-1b11dc6b47b2"
      },
      "outputs": [
        {
          "data": {
            "text/html": [
              "<div>\n",
              "<style scoped>\n",
              "    .dataframe tbody tr th:only-of-type {\n",
              "        vertical-align: middle;\n",
              "    }\n",
              "\n",
              "    .dataframe tbody tr th {\n",
              "        vertical-align: top;\n",
              "    }\n",
              "\n",
              "    .dataframe thead th {\n",
              "        text-align: right;\n",
              "    }\n",
              "</style>\n",
              "<table border=\"1\" class=\"dataframe\">\n",
              "  <thead>\n",
              "    <tr style=\"text-align: right;\">\n",
              "      <th></th>\n",
              "      <th>publisher_id</th>\n",
              "      <th>publisher</th>\n",
              "    </tr>\n",
              "  </thead>\n",
              "  <tbody>\n",
              "    <tr>\n",
              "      <th>0</th>\n",
              "      <td>1</td>\n",
              "      <td>Ace</td>\n",
              "    </tr>\n",
              "    <tr>\n",
              "      <th>1</th>\n",
              "      <td>2</td>\n",
              "      <td>Ace Book</td>\n",
              "    </tr>\n",
              "    <tr>\n",
              "      <th>2</th>\n",
              "      <td>3</td>\n",
              "      <td>Ace Books</td>\n",
              "    </tr>\n",
              "  </tbody>\n",
              "</table>\n",
              "</div>"
            ],
            "text/plain": [
              "   publisher_id  publisher\n",
              "0             1        Ace\n",
              "1             2   Ace Book\n",
              "2             3  Ace Books"
            ]
          },
          "execution_count": 11,
          "metadata": {},
          "output_type": "execute_result"
        }
      ],
      "source": [
        "# printing top 3 rows from `publishers` table\n",
        "\n",
        "query = ''' SELECT *\n",
        "                FROM publishers\n",
        "                LIMIT 3\n",
        "            '''\n",
        "\n",
        "pd.io.sql.read_sql(query, con = engine)"
      ]
    },
    {
      "cell_type": "markdown",
      "metadata": {
        "id": "S8ZpGMLQKU3A"
      },
      "source": [
        "Description of `publishers`:\n",
        "\n",
        "- `publisher_id`\n",
        "- `publisher`"
      ]
    },
    {
      "cell_type": "code",
      "execution_count": null,
      "metadata": {
        "id": "Ya3Efc12KU3B",
        "outputId": "ba2aa0f7-f494-4a74-dde2-d3aa0a877ec0"
      },
      "outputs": [
        {
          "data": {
            "text/html": [
              "<div>\n",
              "<style scoped>\n",
              "    .dataframe tbody tr th:only-of-type {\n",
              "        vertical-align: middle;\n",
              "    }\n",
              "\n",
              "    .dataframe tbody tr th {\n",
              "        vertical-align: top;\n",
              "    }\n",
              "\n",
              "    .dataframe thead th {\n",
              "        text-align: right;\n",
              "    }\n",
              "</style>\n",
              "<table border=\"1\" class=\"dataframe\">\n",
              "  <thead>\n",
              "    <tr style=\"text-align: right;\">\n",
              "      <th></th>\n",
              "      <th>publisher_id</th>\n",
              "    </tr>\n",
              "  </thead>\n",
              "  <tbody>\n",
              "  </tbody>\n",
              "</table>\n",
              "</div>"
            ],
            "text/plain": [
              "Empty DataFrame\n",
              "Columns: [publisher_id]\n",
              "Index: []"
            ]
          },
          "execution_count": 12,
          "metadata": {},
          "output_type": "execute_result"
        }
      ],
      "source": [
        "# checking for duplicate values\n",
        "\n",
        "query = '''\n",
        "SELECT publisher_id\n",
        "FROM publishers\n",
        "GROUP BY publisher_id\n",
        "HAVING COUNT(publisher_id) > 1\n",
        "'''\n",
        "\n",
        "pd.io.sql.read_sql(query, con = engine)"
      ]
    },
    {
      "cell_type": "code",
      "execution_count": null,
      "metadata": {
        "id": "MkCVAj-6KU3C",
        "outputId": "885ddc63-0832-41bc-a3f0-6b29dc4ce0af"
      },
      "outputs": [
        {
          "data": {
            "text/html": [
              "<div>\n",
              "<style scoped>\n",
              "    .dataframe tbody tr th:only-of-type {\n",
              "        vertical-align: middle;\n",
              "    }\n",
              "\n",
              "    .dataframe tbody tr th {\n",
              "        vertical-align: top;\n",
              "    }\n",
              "\n",
              "    .dataframe thead th {\n",
              "        text-align: right;\n",
              "    }\n",
              "</style>\n",
              "<table border=\"1\" class=\"dataframe\">\n",
              "  <thead>\n",
              "    <tr style=\"text-align: right;\">\n",
              "      <th></th>\n",
              "      <th>publisher_id</th>\n",
              "      <th>publisher</th>\n",
              "    </tr>\n",
              "  </thead>\n",
              "  <tbody>\n",
              "  </tbody>\n",
              "</table>\n",
              "</div>"
            ],
            "text/plain": [
              "Empty DataFrame\n",
              "Columns: [publisher_id, publisher]\n",
              "Index: []"
            ]
          },
          "execution_count": 13,
          "metadata": {},
          "output_type": "execute_result"
        }
      ],
      "source": [
        "# checking for null values\n",
        "\n",
        "query = '''\n",
        "SELECT *\n",
        "FROM publishers\n",
        "WHERE publisher_id IS NULL\n",
        "'''\n",
        "\n",
        "pd.io.sql.read_sql(query, con = engine)"
      ]
    },
    {
      "cell_type": "code",
      "execution_count": null,
      "metadata": {
        "scrolled": true,
        "id": "hZ6M1RHoKU3D",
        "outputId": "b7e6ab2c-b9f1-4a89-e179-5a910926dc85"
      },
      "outputs": [
        {
          "data": {
            "text/html": [
              "<div>\n",
              "<style scoped>\n",
              "    .dataframe tbody tr th:only-of-type {\n",
              "        vertical-align: middle;\n",
              "    }\n",
              "\n",
              "    .dataframe tbody tr th {\n",
              "        vertical-align: top;\n",
              "    }\n",
              "\n",
              "    .dataframe thead th {\n",
              "        text-align: right;\n",
              "    }\n",
              "</style>\n",
              "<table border=\"1\" class=\"dataframe\">\n",
              "  <thead>\n",
              "    <tr style=\"text-align: right;\">\n",
              "      <th></th>\n",
              "      <th>rating_id</th>\n",
              "      <th>book_id</th>\n",
              "      <th>username</th>\n",
              "      <th>rating</th>\n",
              "    </tr>\n",
              "  </thead>\n",
              "  <tbody>\n",
              "    <tr>\n",
              "      <th>0</th>\n",
              "      <td>1</td>\n",
              "      <td>1</td>\n",
              "      <td>ryanfranco</td>\n",
              "      <td>4</td>\n",
              "    </tr>\n",
              "    <tr>\n",
              "      <th>1</th>\n",
              "      <td>2</td>\n",
              "      <td>1</td>\n",
              "      <td>grantpatricia</td>\n",
              "      <td>2</td>\n",
              "    </tr>\n",
              "    <tr>\n",
              "      <th>2</th>\n",
              "      <td>3</td>\n",
              "      <td>1</td>\n",
              "      <td>brandtandrea</td>\n",
              "      <td>5</td>\n",
              "    </tr>\n",
              "  </tbody>\n",
              "</table>\n",
              "</div>"
            ],
            "text/plain": [
              "   rating_id  book_id       username  rating\n",
              "0          1        1     ryanfranco       4\n",
              "1          2        1  grantpatricia       2\n",
              "2          3        1   brandtandrea       5"
            ]
          },
          "execution_count": 14,
          "metadata": {},
          "output_type": "execute_result"
        }
      ],
      "source": [
        "# printing top 3 rows from `ratings` table\n",
        "\n",
        "query = ''' SELECT *\n",
        "                FROM ratings\n",
        "                LIMIT 3\n",
        "            '''\n",
        "\n",
        "pd.io.sql.read_sql(query, con = engine)"
      ]
    },
    {
      "cell_type": "markdown",
      "metadata": {
        "id": "g45Fu_A_KU3E"
      },
      "source": [
        "Descriptiono of user `ratings`:\n",
        "\n",
        "- `rating_id`\n",
        "- `book_id`\n",
        "- `username` — the name of the user who rated the book\n",
        "- `rating`"
      ]
    },
    {
      "cell_type": "code",
      "execution_count": null,
      "metadata": {
        "id": "_HRMQhbdKU3E",
        "outputId": "27ff7281-9b84-49ff-a7cc-3e9da71898af"
      },
      "outputs": [
        {
          "data": {
            "text/html": [
              "<div>\n",
              "<style scoped>\n",
              "    .dataframe tbody tr th:only-of-type {\n",
              "        vertical-align: middle;\n",
              "    }\n",
              "\n",
              "    .dataframe tbody tr th {\n",
              "        vertical-align: top;\n",
              "    }\n",
              "\n",
              "    .dataframe thead th {\n",
              "        text-align: right;\n",
              "    }\n",
              "</style>\n",
              "<table border=\"1\" class=\"dataframe\">\n",
              "  <thead>\n",
              "    <tr style=\"text-align: right;\">\n",
              "      <th></th>\n",
              "      <th>rating_id</th>\n",
              "    </tr>\n",
              "  </thead>\n",
              "  <tbody>\n",
              "  </tbody>\n",
              "</table>\n",
              "</div>"
            ],
            "text/plain": [
              "Empty DataFrame\n",
              "Columns: [rating_id]\n",
              "Index: []"
            ]
          },
          "execution_count": 15,
          "metadata": {},
          "output_type": "execute_result"
        }
      ],
      "source": [
        "# checking for duplicate values\n",
        "\n",
        "query = '''\n",
        "SELECT rating_id\n",
        "FROM ratings\n",
        "GROUP BY rating_id\n",
        "HAVING COUNT(rating_id) > 1\n",
        "'''\n",
        "\n",
        "pd.io.sql.read_sql(query, con = engine)"
      ]
    },
    {
      "cell_type": "code",
      "execution_count": null,
      "metadata": {
        "id": "x5ckPWt8KU3E",
        "outputId": "b76c6194-3828-4c3a-966b-4fb80d2beec9"
      },
      "outputs": [
        {
          "data": {
            "text/html": [
              "<div>\n",
              "<style scoped>\n",
              "    .dataframe tbody tr th:only-of-type {\n",
              "        vertical-align: middle;\n",
              "    }\n",
              "\n",
              "    .dataframe tbody tr th {\n",
              "        vertical-align: top;\n",
              "    }\n",
              "\n",
              "    .dataframe thead th {\n",
              "        text-align: right;\n",
              "    }\n",
              "</style>\n",
              "<table border=\"1\" class=\"dataframe\">\n",
              "  <thead>\n",
              "    <tr style=\"text-align: right;\">\n",
              "      <th></th>\n",
              "      <th>rating_id</th>\n",
              "      <th>book_id</th>\n",
              "      <th>username</th>\n",
              "      <th>rating</th>\n",
              "    </tr>\n",
              "  </thead>\n",
              "  <tbody>\n",
              "  </tbody>\n",
              "</table>\n",
              "</div>"
            ],
            "text/plain": [
              "Empty DataFrame\n",
              "Columns: [rating_id, book_id, username, rating]\n",
              "Index: []"
            ]
          },
          "execution_count": 16,
          "metadata": {},
          "output_type": "execute_result"
        }
      ],
      "source": [
        "# checking for null values\n",
        "\n",
        "query = '''\n",
        "SELECT *\n",
        "FROM ratings\n",
        "WHERE coalesce(rating_id,book_id,rating) IS NULL\n",
        "'''\n",
        "\n",
        "pd.io.sql.read_sql(query, con = engine)"
      ]
    },
    {
      "cell_type": "code",
      "execution_count": null,
      "metadata": {
        "id": "4zfO8oU1KU3G",
        "outputId": "84598a51-1d00-4f0f-8845-5925dc32135e"
      },
      "outputs": [
        {
          "data": {
            "text/html": [
              "<div>\n",
              "<style scoped>\n",
              "    .dataframe tbody tr th:only-of-type {\n",
              "        vertical-align: middle;\n",
              "    }\n",
              "\n",
              "    .dataframe tbody tr th {\n",
              "        vertical-align: top;\n",
              "    }\n",
              "\n",
              "    .dataframe thead th {\n",
              "        text-align: right;\n",
              "    }\n",
              "</style>\n",
              "<table border=\"1\" class=\"dataframe\">\n",
              "  <thead>\n",
              "    <tr style=\"text-align: right;\">\n",
              "      <th></th>\n",
              "      <th>review_id</th>\n",
              "      <th>book_id</th>\n",
              "      <th>username</th>\n",
              "      <th>text</th>\n",
              "    </tr>\n",
              "  </thead>\n",
              "  <tbody>\n",
              "    <tr>\n",
              "      <th>0</th>\n",
              "      <td>1</td>\n",
              "      <td>1</td>\n",
              "      <td>brandtandrea</td>\n",
              "      <td>Mention society tell send professor analysis. ...</td>\n",
              "    </tr>\n",
              "    <tr>\n",
              "      <th>1</th>\n",
              "      <td>2</td>\n",
              "      <td>1</td>\n",
              "      <td>ryanfranco</td>\n",
              "      <td>Foot glass pretty audience hit themselves. Amo...</td>\n",
              "    </tr>\n",
              "    <tr>\n",
              "      <th>2</th>\n",
              "      <td>3</td>\n",
              "      <td>2</td>\n",
              "      <td>lorichen</td>\n",
              "      <td>Listen treat keep worry. Miss husband tax but ...</td>\n",
              "    </tr>\n",
              "  </tbody>\n",
              "</table>\n",
              "</div>"
            ],
            "text/plain": [
              "   review_id  book_id      username  \\\n",
              "0          1        1  brandtandrea   \n",
              "1          2        1    ryanfranco   \n",
              "2          3        2      lorichen   \n",
              "\n",
              "                                                text  \n",
              "0  Mention society tell send professor analysis. ...  \n",
              "1  Foot glass pretty audience hit themselves. Amo...  \n",
              "2  Listen treat keep worry. Miss husband tax but ...  "
            ]
          },
          "execution_count": 17,
          "metadata": {},
          "output_type": "execute_result"
        }
      ],
      "source": [
        "# printing top 3 rows from `reviews` table\n",
        "\n",
        "query = ''' SELECT *\n",
        "                FROM reviews\n",
        "                LIMIT 3\n",
        "            '''\n",
        "\n",
        "pd.io.sql.read_sql(query, con = engine)"
      ]
    },
    {
      "cell_type": "markdown",
      "metadata": {
        "id": "2IDziBRVKU3G"
      },
      "source": [
        "Description of `reviews`:\n",
        "\n",
        "- `review_id`\n",
        "- `book_id`\n",
        "- `username` — the name of the user who reviewed the book\n",
        "- `text` — the text of the review"
      ]
    },
    {
      "cell_type": "code",
      "execution_count": null,
      "metadata": {
        "id": "1JAdg53JKU3G",
        "outputId": "0faa74e6-e9f2-416a-c4fa-1790354b54fe"
      },
      "outputs": [
        {
          "data": {
            "text/html": [
              "<div>\n",
              "<style scoped>\n",
              "    .dataframe tbody tr th:only-of-type {\n",
              "        vertical-align: middle;\n",
              "    }\n",
              "\n",
              "    .dataframe tbody tr th {\n",
              "        vertical-align: top;\n",
              "    }\n",
              "\n",
              "    .dataframe thead th {\n",
              "        text-align: right;\n",
              "    }\n",
              "</style>\n",
              "<table border=\"1\" class=\"dataframe\">\n",
              "  <thead>\n",
              "    <tr style=\"text-align: right;\">\n",
              "      <th></th>\n",
              "      <th>review_id</th>\n",
              "    </tr>\n",
              "  </thead>\n",
              "  <tbody>\n",
              "  </tbody>\n",
              "</table>\n",
              "</div>"
            ],
            "text/plain": [
              "Empty DataFrame\n",
              "Columns: [review_id]\n",
              "Index: []"
            ]
          },
          "execution_count": 18,
          "metadata": {},
          "output_type": "execute_result"
        }
      ],
      "source": [
        "# checking for duplicate values\n",
        "\n",
        "query = '''\n",
        "SELECT review_id\n",
        "FROM reviews\n",
        "GROUP BY review_id\n",
        "HAVING COUNT(review_id) > 1\n",
        "'''\n",
        "\n",
        "pd.io.sql.read_sql(query, con = engine)"
      ]
    },
    {
      "cell_type": "code",
      "execution_count": null,
      "metadata": {
        "id": "yLoqB5UNKU3G",
        "outputId": "c7fc9742-0f1b-4425-eb6b-01c37b64c8c0"
      },
      "outputs": [
        {
          "data": {
            "text/html": [
              "<div>\n",
              "<style scoped>\n",
              "    .dataframe tbody tr th:only-of-type {\n",
              "        vertical-align: middle;\n",
              "    }\n",
              "\n",
              "    .dataframe tbody tr th {\n",
              "        vertical-align: top;\n",
              "    }\n",
              "\n",
              "    .dataframe thead th {\n",
              "        text-align: right;\n",
              "    }\n",
              "</style>\n",
              "<table border=\"1\" class=\"dataframe\">\n",
              "  <thead>\n",
              "    <tr style=\"text-align: right;\">\n",
              "      <th></th>\n",
              "      <th>review_id</th>\n",
              "      <th>book_id</th>\n",
              "      <th>username</th>\n",
              "      <th>text</th>\n",
              "    </tr>\n",
              "  </thead>\n",
              "  <tbody>\n",
              "  </tbody>\n",
              "</table>\n",
              "</div>"
            ],
            "text/plain": [
              "Empty DataFrame\n",
              "Columns: [review_id, book_id, username, text]\n",
              "Index: []"
            ]
          },
          "execution_count": 19,
          "metadata": {},
          "output_type": "execute_result"
        }
      ],
      "source": [
        "# checking for null values\n",
        "\n",
        "query = '''\n",
        "SELECT *\n",
        "FROM reviews\n",
        "WHERE coalesce(review_id,book_id) IS NULL\n",
        "'''\n",
        "\n",
        "pd.io.sql.read_sql(query, con = engine)"
      ]
    },
    {
      "cell_type": "markdown",
      "metadata": {
        "id": "RV4Q1JG_KU3I"
      },
      "source": [
        "## Analysis"
      ]
    },
    {
      "cell_type": "code",
      "execution_count": null,
      "metadata": {
        "scrolled": false,
        "id": "QOpZWq-fKU3J",
        "outputId": "334a608b-a976-473e-ff68-d8a2e59fcd6e"
      },
      "outputs": [
        {
          "data": {
            "text/html": [
              "<div>\n",
              "<style scoped>\n",
              "    .dataframe tbody tr th:only-of-type {\n",
              "        vertical-align: middle;\n",
              "    }\n",
              "\n",
              "    .dataframe tbody tr th {\n",
              "        vertical-align: top;\n",
              "    }\n",
              "\n",
              "    .dataframe thead th {\n",
              "        text-align: right;\n",
              "    }\n",
              "</style>\n",
              "<table border=\"1\" class=\"dataframe\">\n",
              "  <thead>\n",
              "    <tr style=\"text-align: right;\">\n",
              "      <th></th>\n",
              "      <th>count</th>\n",
              "    </tr>\n",
              "  </thead>\n",
              "  <tbody>\n",
              "    <tr>\n",
              "      <th>0</th>\n",
              "      <td>819</td>\n",
              "    </tr>\n",
              "  </tbody>\n",
              "</table>\n",
              "</div>"
            ],
            "text/plain": [
              "   count\n",
              "0    819"
            ]
          },
          "execution_count": 20,
          "metadata": {},
          "output_type": "execute_result"
        }
      ],
      "source": [
        "# task 1: Find the number of books released after January 1, 2000.\n",
        "\n",
        "query = ''' \n",
        "SELECT COUNT(book_id) \n",
        "FROM books b\n",
        "WHERE publication_date > '2000-01-01'\n",
        "'''\n",
        "\n",
        "pd.io.sql.read_sql(query, con = engine)"
      ]
    },
    {
      "cell_type": "markdown",
      "metadata": {
        "id": "UJsMHcq4KU3J"
      },
      "source": [
        "### Task 1 Notes\n",
        "\n",
        "Within this database there are 819 books released after Jan 1, 2000. Obviously over 20+ years this number is a tiny fraction of the total number of books released but it will allow for more streamlined analysis. "
      ]
    },
    {
      "cell_type": "code",
      "execution_count": null,
      "metadata": {
        "id": "cQztZnLrKU3L",
        "outputId": "254395a3-cd95-4079-c972-972d386a9590"
      },
      "outputs": [
        {
          "data": {
            "text/html": [
              "<div>\n",
              "<style scoped>\n",
              "    .dataframe tbody tr th:only-of-type {\n",
              "        vertical-align: middle;\n",
              "    }\n",
              "\n",
              "    .dataframe tbody tr th {\n",
              "        vertical-align: top;\n",
              "    }\n",
              "\n",
              "    .dataframe thead th {\n",
              "        text-align: right;\n",
              "    }\n",
              "</style>\n",
              "<table border=\"1\" class=\"dataframe\">\n",
              "  <thead>\n",
              "    <tr style=\"text-align: right;\">\n",
              "      <th></th>\n",
              "      <th>title</th>\n",
              "      <th>count</th>\n",
              "      <th>avg</th>\n",
              "    </tr>\n",
              "  </thead>\n",
              "  <tbody>\n",
              "    <tr>\n",
              "      <th>0</th>\n",
              "      <td>Twilight (Twilight  #1)</td>\n",
              "      <td>7</td>\n",
              "      <td>3.662500</td>\n",
              "    </tr>\n",
              "    <tr>\n",
              "      <th>1</th>\n",
              "      <td>The Hobbit  or There and Back Again</td>\n",
              "      <td>6</td>\n",
              "      <td>4.125000</td>\n",
              "    </tr>\n",
              "    <tr>\n",
              "      <th>2</th>\n",
              "      <td>The Catcher in the Rye</td>\n",
              "      <td>6</td>\n",
              "      <td>3.825581</td>\n",
              "    </tr>\n",
              "    <tr>\n",
              "      <th>3</th>\n",
              "      <td>Harry Potter and the Prisoner of Azkaban (Harr...</td>\n",
              "      <td>6</td>\n",
              "      <td>4.414634</td>\n",
              "    </tr>\n",
              "    <tr>\n",
              "      <th>4</th>\n",
              "      <td>Harry Potter and the Chamber of Secrets (Harry...</td>\n",
              "      <td>6</td>\n",
              "      <td>4.287500</td>\n",
              "    </tr>\n",
              "  </tbody>\n",
              "</table>\n",
              "</div>"
            ],
            "text/plain": [
              "                                               title  count       avg\n",
              "0                            Twilight (Twilight  #1)      7  3.662500\n",
              "1                The Hobbit  or There and Back Again      6  4.125000\n",
              "2                             The Catcher in the Rye      6  3.825581\n",
              "3  Harry Potter and the Prisoner of Azkaban (Harr...      6  4.414634\n",
              "4  Harry Potter and the Chamber of Secrets (Harry...      6  4.287500"
            ]
          },
          "execution_count": 21,
          "metadata": {},
          "output_type": "execute_result"
        }
      ],
      "source": [
        "# task 2: Find the number of user reviews and the average rating for each book.\n",
        "\n",
        "query = '''\n",
        "SELECT books.title, COUNT (DISTINCT reviews.review_id), AVG(ratings.rating)\n",
        "FROM books\n",
        "LEFT JOIN reviews ON books.book_id = reviews.book_id\n",
        "LEFT JOIN ratings ON reviews.book_id = ratings.book_id\n",
        "GROUP BY books.title\n",
        "ORDER BY COUNT(reviews.review_id) DESC\n",
        "LIMIT 5\n",
        "'''\n",
        "\n",
        "pd.io.sql.read_sql(query, con = engine)"
      ]
    },
    {
      "cell_type": "markdown",
      "metadata": {
        "id": "ZsS-IBj2KU3M"
      },
      "source": [
        "### Task 2 Notes\n",
        "\n",
        "The book with the most reviews in the database is 'Twilight #1' with 7 unique reviews and an average rating of 3.6/5. The remaining books in the top 5 mpst reviewed books all have 6 revoews. All ratings range between 3.5/5 and 4.5/5."
      ]
    },
    {
      "cell_type": "code",
      "execution_count": null,
      "metadata": {
        "id": "V4zTF5rfKU3N",
        "outputId": "2571f1d0-0f9c-4a94-b988-bebf5224e98a"
      },
      "outputs": [
        {
          "data": {
            "text/html": [
              "<div>\n",
              "<style scoped>\n",
              "    .dataframe tbody tr th:only-of-type {\n",
              "        vertical-align: middle;\n",
              "    }\n",
              "\n",
              "    .dataframe tbody tr th {\n",
              "        vertical-align: top;\n",
              "    }\n",
              "\n",
              "    .dataframe thead th {\n",
              "        text-align: right;\n",
              "    }\n",
              "</style>\n",
              "<table border=\"1\" class=\"dataframe\">\n",
              "  <thead>\n",
              "    <tr style=\"text-align: right;\">\n",
              "      <th></th>\n",
              "      <th>publisher</th>\n",
              "    </tr>\n",
              "  </thead>\n",
              "  <tbody>\n",
              "    <tr>\n",
              "      <th>0</th>\n",
              "      <td>Penguin Books</td>\n",
              "    </tr>\n",
              "    <tr>\n",
              "      <th>1</th>\n",
              "      <td>Vintage</td>\n",
              "    </tr>\n",
              "    <tr>\n",
              "      <th>2</th>\n",
              "      <td>Grand Central Publishing</td>\n",
              "    </tr>\n",
              "    <tr>\n",
              "      <th>3</th>\n",
              "      <td>Penguin Classics</td>\n",
              "    </tr>\n",
              "    <tr>\n",
              "      <th>4</th>\n",
              "      <td>Ballantine Books</td>\n",
              "    </tr>\n",
              "    <tr>\n",
              "      <th>5</th>\n",
              "      <td>Bantam</td>\n",
              "    </tr>\n",
              "    <tr>\n",
              "      <th>6</th>\n",
              "      <td>Berkley</td>\n",
              "    </tr>\n",
              "    <tr>\n",
              "      <th>7</th>\n",
              "      <td>St. Martin's Press</td>\n",
              "    </tr>\n",
              "    <tr>\n",
              "      <th>8</th>\n",
              "      <td>Berkley Books</td>\n",
              "    </tr>\n",
              "    <tr>\n",
              "      <th>9</th>\n",
              "      <td>William Morrow Paperbacks</td>\n",
              "    </tr>\n",
              "  </tbody>\n",
              "</table>\n",
              "</div>"
            ],
            "text/plain": [
              "                   publisher\n",
              "0              Penguin Books\n",
              "1                    Vintage\n",
              "2   Grand Central Publishing\n",
              "3           Penguin Classics\n",
              "4           Ballantine Books\n",
              "5                     Bantam\n",
              "6                    Berkley\n",
              "7         St. Martin's Press\n",
              "8              Berkley Books\n",
              "9  William Morrow Paperbacks"
            ]
          },
          "execution_count": 22,
          "metadata": {},
          "output_type": "execute_result"
        }
      ],
      "source": [
        "# task 3: Identify the publisher that has released the greatest number of books with more than 50 pages \n",
        "# (this will help you exclude brochures and similar publications from your analysis).\n",
        "\n",
        "query = ''' \n",
        "SELECT publishers.publisher AS publisher\n",
        "FROM books \n",
        "LEFT JOIN publishers ON books.publisher_id = publishers.publisher_id\n",
        "WHERE books.num_pages > 50\n",
        "GROUP BY publishers.publisher\n",
        "ORDER BY COUNT(books.book_id) DESC\n",
        "LIMIT 10\n",
        "'''\n",
        "\n",
        "pd.io.sql.read_sql(query, con = engine)"
      ]
    },
    {
      "cell_type": "markdown",
      "metadata": {
        "id": "OuqZ1n9wKU3O"
      },
      "source": [
        "### Task 3 Notes\n",
        "\n",
        "Penguin Books has the most books published with more than 50 pages. The database does seperate publishers by imprints so we can see both Penguin Books and Penguin Classics.|"
      ]
    },
    {
      "cell_type": "code",
      "execution_count": null,
      "metadata": {
        "id": "DXcl-k2RKU3P",
        "outputId": "be8ca661-a96b-416a-b811-9772b46fee51"
      },
      "outputs": [
        {
          "data": {
            "text/html": [
              "<div>\n",
              "<style scoped>\n",
              "    .dataframe tbody tr th:only-of-type {\n",
              "        vertical-align: middle;\n",
              "    }\n",
              "\n",
              "    .dataframe tbody tr th {\n",
              "        vertical-align: top;\n",
              "    }\n",
              "\n",
              "    .dataframe thead th {\n",
              "        text-align: right;\n",
              "    }\n",
              "</style>\n",
              "<table border=\"1\" class=\"dataframe\">\n",
              "  <thead>\n",
              "    <tr style=\"text-align: right;\">\n",
              "      <th></th>\n",
              "      <th>author</th>\n",
              "      <th>avg</th>\n",
              "      <th>count</th>\n",
              "    </tr>\n",
              "  </thead>\n",
              "  <tbody>\n",
              "    <tr>\n",
              "      <th>0</th>\n",
              "      <td>J.K. Rowling/Mary GrandPré</td>\n",
              "      <td>4.288462</td>\n",
              "      <td>312</td>\n",
              "    </tr>\n",
              "  </tbody>\n",
              "</table>\n",
              "</div>"
            ],
            "text/plain": [
              "                       author       avg  count\n",
              "0  J.K. Rowling/Mary GrandPré  4.288462    312"
            ]
          },
          "execution_count": 23,
          "metadata": {},
          "output_type": "execute_result"
        }
      ],
      "source": [
        "# task 4: Identify the author with the highest average book rating: \n",
        "# look only at books with at least 50 ratings.\n",
        "\n",
        "query = '''\n",
        "SELECT authors.author, AVG(ratings.rating), COUNT(ratings.book_id)\n",
        "FROM authors\n",
        "JOIN books ON authors.author_id = books.author_id\n",
        "JOIN ratings ON books.book_id = ratings.book_id\n",
        "GROUP BY authors.author\n",
        "HAVING COUNT(ratings.book_id) > 50\n",
        "ORDER BY AVG(ratings.rating) DESC\n",
        "LIMIT 1\n",
        "'''\n",
        "\n",
        "pd.io.sql.read_sql(query, con = engine)"
      ]
    },
    {
      "cell_type": "markdown",
      "metadata": {
        "id": "vW3LTRjBKU3Q"
      },
      "source": [
        "### Task 4 Notes\n",
        "\n",
        "The author with the highest averge book rating is J.K. Rowling with an average rating 4.29 out of 312 reviews."
      ]
    },
    {
      "cell_type": "code",
      "execution_count": null,
      "metadata": {
        "scrolled": true,
        "id": "ZiIVyJhCKU3R",
        "outputId": "d1af487d-524f-4f53-d8d2-b5ebc9efaaee"
      },
      "outputs": [
        {
          "data": {
            "text/html": [
              "<div>\n",
              "<style scoped>\n",
              "    .dataframe tbody tr th:only-of-type {\n",
              "        vertical-align: middle;\n",
              "    }\n",
              "\n",
              "    .dataframe tbody tr th {\n",
              "        vertical-align: top;\n",
              "    }\n",
              "\n",
              "    .dataframe thead th {\n",
              "        text-align: right;\n",
              "    }\n",
              "</style>\n",
              "<table border=\"1\" class=\"dataframe\">\n",
              "  <thead>\n",
              "    <tr style=\"text-align: right;\">\n",
              "      <th></th>\n",
              "      <th>avg_text_reviews</th>\n",
              "    </tr>\n",
              "  </thead>\n",
              "  <tbody>\n",
              "    <tr>\n",
              "      <th>0</th>\n",
              "      <td>24.333333</td>\n",
              "    </tr>\n",
              "  </tbody>\n",
              "</table>\n",
              "</div>"
            ],
            "text/plain": [
              "   avg_text_reviews\n",
              "0         24.333333"
            ]
          },
          "execution_count": 24,
          "metadata": {},
          "output_type": "execute_result"
        }
      ],
      "source": [
        "# task 5: Find the average number of text reviews among users who rated more than 50 books.\n",
        "\n",
        "query = '''\n",
        "SELECT AVG(count) AS avg_text_reviews\n",
        "FROM(\n",
        "    SELECT COUNT(reviews.text)\n",
        "    FROM(\n",
        "        SELECT username\n",
        "        FROM ratings\n",
        "        GROUP BY username\n",
        "        HAVING COUNT(rating) > 50) AS users\n",
        "    JOIN reviews ON users.username = reviews.username\n",
        "    GROUP BY users.username) AS count\n",
        "'''\n",
        "\n",
        "pd.io.sql.read_sql(query, con = engine)"
      ]
    },
    {
      "cell_type": "markdown",
      "metadata": {
        "id": "jn0QMRLhKU3S"
      },
      "source": [
        "### Task 5 Notes\n",
        "\n",
        "This task required a subquery to be able to find the average of the total number of text reviews made by users with more than 50 ratings. After running this query I found that users who made more than 50 ratings averaged 24.3 text reviews."
      ]
    },
    {
      "cell_type": "markdown",
      "metadata": {
        "id": "PeZKiMyZKU3T"
      },
      "source": [
        "## Conclusion"
      ]
    },
    {
      "cell_type": "markdown",
      "metadata": {
        "id": "xno1DIrYKU3T"
      },
      "source": [
        "After completing analysis of the data tables I've reached the following conclusions:\n",
        "\n",
        "- Books with lots of reviews tend to have high ratings with the top 10 books ratings ranging between 3.5/5 and 4.5/5.\n",
        "- There are a great deal of publishers in the data base which, including imprints of the same publisher (Penguin Books and Penguin Classics). Penguin Books had the most books published in the database. \n",
        "- The book with the most reviews is Twilight #1, though this book only has an average rating of 3.6/5. \n",
        "- J.K. Rowling, the author with the highest average rating has two books in the top 5 most reviewed books, both with ratings over 4/5.\n",
        "- Users that write reviews usually write a lot of reviews as the average number of text reviews for users who have published over 50 ratings in 24.3 text reviews. \n",
        "\n",
        "My recommendations going forward are the following:\n",
        "\n",
        "- incentive new users to write reviews. Users that write reviews both read a lot of books and remain very active on the platform.\n",
        "- Add more books published after Jan 1, 2000 as the database currently only contains 819 books released in the last 20+ years. "
      ]
    }
  ],
  "metadata": {
    "kernelspec": {
      "display_name": "Python 3 (ipykernel)",
      "language": "python",
      "name": "python3"
    },
    "language_info": {
      "codemirror_mode": {
        "name": "ipython",
        "version": 3
      },
      "file_extension": ".py",
      "mimetype": "text/x-python",
      "name": "python",
      "nbconvert_exporter": "python",
      "pygments_lexer": "ipython3",
      "version": "3.9.5"
    },
    "toc": {
      "base_numbering": 1,
      "nav_menu": {},
      "number_sections": true,
      "sideBar": true,
      "skip_h1_title": true,
      "title_cell": "Table of Contents",
      "title_sidebar": "Contents",
      "toc_cell": false,
      "toc_position": {},
      "toc_section_display": true,
      "toc_window_display": false
    },
    "colab": {
      "provenance": []
    }
  },
  "nbformat": 4,
  "nbformat_minor": 0
}